{
 "cells": [
  {
   "cell_type": "code",
   "execution_count": 1,
   "id": "b89f7f2c",
   "metadata": {},
   "outputs": [],
   "source": [
    "#############################################\n",
    "## Fit NMF topic model to MIMIC-III clinical note data --- goal is to characterize topics in discharge notes\n",
    "##\n",
    "## Author: Chris Meaney \n",
    "## Date: December 2023\n",
    "#############################################"
   ]
  },
  {
   "cell_type": "code",
   "execution_count": 2,
   "id": "f9a0a7ef",
   "metadata": {},
   "outputs": [],
   "source": [
    "###################\n",
    "## Package dependencies\n",
    "###################\n",
    "\n",
    "## Numerics\n",
    "import numpy as np\n",
    "\n",
    "## Data wrangling\n",
    "import pandas as pd\n",
    "\n",
    "## Gensim word2vec models and utilities\n",
    "from gensim.test.utils import datapath\n",
    "from gensim import utils\n",
    "import gensim.models\n",
    "\n",
    "## For timing processes\n",
    "from time import time\n",
    "\n",
    "## Environment characteristics\n",
    "import session_info"
   ]
  },
  {
   "cell_type": "code",
   "execution_count": 3,
   "id": "ee102f43",
   "metadata": {},
   "outputs": [],
   "source": [
    "###################\n",
    "## Jupyter display options\n",
    "###################\n",
    "pd.set_option('display.max_rows', 500)\n",
    "pd.set_option('display.max_columns', 500)"
   ]
  },
  {
   "cell_type": "code",
   "execution_count": 4,
   "id": "55898d43",
   "metadata": {},
   "outputs": [
    {
     "data": {
      "text/plain": [
       "(21177, 21)"
      ]
     },
     "execution_count": 4,
     "metadata": {},
     "output_type": "execute_result"
    }
   ],
   "source": [
    "###################\n",
    "## Import Data\n",
    "###################\n",
    "datadir = \"C:/Users/ChristopherMeaney/Desktop/tmp/Vector_SSL/Data/\"\n",
    "X_pkl_path = datadir + \"X.pkl\"\n",
    "\n",
    "X = pd.read_pickle(X_pkl_path)\n",
    "X.shape"
   ]
  },
  {
   "cell_type": "code",
   "execution_count": 5,
   "id": "6773e336",
   "metadata": {},
   "outputs": [
    {
     "data": {
      "text/html": [
       "<div>\n",
       "<style scoped>\n",
       "    .dataframe tbody tr th:only-of-type {\n",
       "        vertical-align: middle;\n",
       "    }\n",
       "\n",
       "    .dataframe tbody tr th {\n",
       "        vertical-align: top;\n",
       "    }\n",
       "\n",
       "    .dataframe thead th {\n",
       "        text-align: right;\n",
       "    }\n",
       "</style>\n",
       "<table border=\"1\" class=\"dataframe\">\n",
       "  <thead>\n",
       "    <tr style=\"text-align: right;\">\n",
       "      <th></th>\n",
       "      <th>SUBJECT_ID</th>\n",
       "      <th>HADM_ID</th>\n",
       "      <th>DOB_DATE</th>\n",
       "      <th>ADMIT_DATE</th>\n",
       "      <th>DISCH_DATE</th>\n",
       "      <th>DOD_DATE</th>\n",
       "      <th>DOD_FLAG</th>\n",
       "      <th>GENDER</th>\n",
       "      <th>ADMIT_AGE</th>\n",
       "      <th>NUM_ADMIT</th>\n",
       "      <th>ICD9_CODE</th>\n",
       "      <th>ICD9_CODE_LIST</th>\n",
       "      <th>NUM_ICD9_CODE</th>\n",
       "      <th>DISCH_2_DOD_</th>\n",
       "      <th>DISCH_2_DOD_30D</th>\n",
       "      <th>DISCH_2_DOD_30D_SURVTIME</th>\n",
       "      <th>TEXT</th>\n",
       "      <th>TEXT_LEN</th>\n",
       "      <th>SHORT_TITLE</th>\n",
       "      <th>LONG_TITLE</th>\n",
       "      <th>DOD_FLAG_</th>\n",
       "    </tr>\n",
       "  </thead>\n",
       "  <tbody>\n",
       "    <tr>\n",
       "      <th>0</th>\n",
       "      <td>682</td>\n",
       "      <td>188382</td>\n",
       "      <td>2036-12-26</td>\n",
       "      <td>2118-08-19</td>\n",
       "      <td>2118-09-03</td>\n",
       "      <td>2119-08-03</td>\n",
       "      <td>False</td>\n",
       "      <td>F</td>\n",
       "      <td>81.698630</td>\n",
       "      <td>1</td>\n",
       "      <td>4472</td>\n",
       "      <td>[4472, 41071, 42830, 5990, 4280, 5849, 40391, ...</td>\n",
       "      <td>9</td>\n",
       "      <td>334.0</td>\n",
       "      <td>False</td>\n",
       "      <td>30</td>\n",
       "      <td>Admission Date:  [**2118-8-19**]              ...</td>\n",
       "      <td>10041</td>\n",
       "      <td>Rupture of artery</td>\n",
       "      <td>Rupture of artery</td>\n",
       "      <td>True</td>\n",
       "    </tr>\n",
       "    <tr>\n",
       "      <th>1</th>\n",
       "      <td>786</td>\n",
       "      <td>117381</td>\n",
       "      <td>2033-05-14</td>\n",
       "      <td>2115-12-29</td>\n",
       "      <td>2116-01-10</td>\n",
       "      <td>2116-08-31</td>\n",
       "      <td>False</td>\n",
       "      <td>M</td>\n",
       "      <td>82.679452</td>\n",
       "      <td>1</td>\n",
       "      <td>4472</td>\n",
       "      <td>[4472, 4538, 00845, 49121, 42731, 2875, 2851, ...</td>\n",
       "      <td>9</td>\n",
       "      <td>234.0</td>\n",
       "      <td>False</td>\n",
       "      <td>30</td>\n",
       "      <td>Admission Date:  [**2115-12-29**]     Discharg...</td>\n",
       "      <td>14642</td>\n",
       "      <td>Rupture of artery</td>\n",
       "      <td>Rupture of artery</td>\n",
       "      <td>True</td>\n",
       "    </tr>\n",
       "    <tr>\n",
       "      <th>2</th>\n",
       "      <td>16181</td>\n",
       "      <td>190902</td>\n",
       "      <td>2116-07-18</td>\n",
       "      <td>2196-02-14</td>\n",
       "      <td>2196-02-17</td>\n",
       "      <td>2202-11-22</td>\n",
       "      <td>False</td>\n",
       "      <td>M</td>\n",
       "      <td>79.630137</td>\n",
       "      <td>1</td>\n",
       "      <td>4472</td>\n",
       "      <td>[4472, 496, 4019, 4422, 53081, 3051, V173, V12...</td>\n",
       "      <td>9</td>\n",
       "      <td>2469.0</td>\n",
       "      <td>False</td>\n",
       "      <td>30</td>\n",
       "      <td>Admission Date:  [**2196-2-14**]              ...</td>\n",
       "      <td>10935</td>\n",
       "      <td>Rupture of artery</td>\n",
       "      <td>Rupture of artery</td>\n",
       "      <td>True</td>\n",
       "    </tr>\n",
       "    <tr>\n",
       "      <th>3</th>\n",
       "      <td>60809</td>\n",
       "      <td>131743</td>\n",
       "      <td>2048-08-27</td>\n",
       "      <td>2123-04-08</td>\n",
       "      <td>2123-05-01</td>\n",
       "      <td>NaT</td>\n",
       "      <td>True</td>\n",
       "      <td>F</td>\n",
       "      <td>74.660274</td>\n",
       "      <td>1</td>\n",
       "      <td>4472</td>\n",
       "      <td>[4472, 5849, 59382, 591, 5934, 2851, E8792, 59...</td>\n",
       "      <td>16</td>\n",
       "      <td>NaN</td>\n",
       "      <td>False</td>\n",
       "      <td>30</td>\n",
       "      <td>Admission Date:  [**2123-4-8**]              D...</td>\n",
       "      <td>9302</td>\n",
       "      <td>Rupture of artery</td>\n",
       "      <td>Rupture of artery</td>\n",
       "      <td>False</td>\n",
       "    </tr>\n",
       "    <tr>\n",
       "      <th>4</th>\n",
       "      <td>695</td>\n",
       "      <td>177128</td>\n",
       "      <td>2093-05-14</td>\n",
       "      <td>2178-08-05</td>\n",
       "      <td>2178-08-13</td>\n",
       "      <td>2178-09-16</td>\n",
       "      <td>False</td>\n",
       "      <td>F</td>\n",
       "      <td>85.282192</td>\n",
       "      <td>2</td>\n",
       "      <td>5771</td>\n",
       "      <td>[5771, 48241, 42731, 2765, 2762, 4240, 3970, 4...</td>\n",
       "      <td>9</td>\n",
       "      <td>34.0</td>\n",
       "      <td>False</td>\n",
       "      <td>30</td>\n",
       "      <td>Admission Date:  [**2178-8-5**]       Discharg...</td>\n",
       "      <td>9829</td>\n",
       "      <td>Chronic pancreatitis</td>\n",
       "      <td>Chronic pancreatitis</td>\n",
       "      <td>True</td>\n",
       "    </tr>\n",
       "  </tbody>\n",
       "</table>\n",
       "</div>"
      ],
      "text/plain": [
       "   SUBJECT_ID  HADM_ID   DOB_DATE ADMIT_DATE DISCH_DATE   DOD_DATE  DOD_FLAG  \\\n",
       "0         682   188382 2036-12-26 2118-08-19 2118-09-03 2119-08-03     False   \n",
       "1         786   117381 2033-05-14 2115-12-29 2116-01-10 2116-08-31     False   \n",
       "2       16181   190902 2116-07-18 2196-02-14 2196-02-17 2202-11-22     False   \n",
       "3       60809   131743 2048-08-27 2123-04-08 2123-05-01        NaT      True   \n",
       "4         695   177128 2093-05-14 2178-08-05 2178-08-13 2178-09-16     False   \n",
       "\n",
       "  GENDER  ADMIT_AGE  NUM_ADMIT ICD9_CODE  \\\n",
       "0      F  81.698630          1      4472   \n",
       "1      M  82.679452          1      4472   \n",
       "2      M  79.630137          1      4472   \n",
       "3      F  74.660274          1      4472   \n",
       "4      F  85.282192          2      5771   \n",
       "\n",
       "                                      ICD9_CODE_LIST  NUM_ICD9_CODE  \\\n",
       "0  [4472, 41071, 42830, 5990, 4280, 5849, 40391, ...              9   \n",
       "1  [4472, 4538, 00845, 49121, 42731, 2875, 2851, ...              9   \n",
       "2  [4472, 496, 4019, 4422, 53081, 3051, V173, V12...              9   \n",
       "3  [4472, 5849, 59382, 591, 5934, 2851, E8792, 59...             16   \n",
       "4  [5771, 48241, 42731, 2765, 2762, 4240, 3970, 4...              9   \n",
       "\n",
       "   DISCH_2_DOD_  DISCH_2_DOD_30D  DISCH_2_DOD_30D_SURVTIME  \\\n",
       "0         334.0            False                        30   \n",
       "1         234.0            False                        30   \n",
       "2        2469.0            False                        30   \n",
       "3           NaN            False                        30   \n",
       "4          34.0            False                        30   \n",
       "\n",
       "                                                TEXT  TEXT_LEN  \\\n",
       "0  Admission Date:  [**2118-8-19**]              ...     10041   \n",
       "1  Admission Date:  [**2115-12-29**]     Discharg...     14642   \n",
       "2  Admission Date:  [**2196-2-14**]              ...     10935   \n",
       "3  Admission Date:  [**2123-4-8**]              D...      9302   \n",
       "4  Admission Date:  [**2178-8-5**]       Discharg...      9829   \n",
       "\n",
       "            SHORT_TITLE            LONG_TITLE  DOD_FLAG_  \n",
       "0     Rupture of artery     Rupture of artery       True  \n",
       "1     Rupture of artery     Rupture of artery       True  \n",
       "2     Rupture of artery     Rupture of artery       True  \n",
       "3     Rupture of artery     Rupture of artery      False  \n",
       "4  Chronic pancreatitis  Chronic pancreatitis       True  "
      ]
     },
     "execution_count": 5,
     "metadata": {},
     "output_type": "execute_result"
    }
   ],
   "source": [
    "## Inspect DataFrame\n",
    "X.head()"
   ]
  },
  {
   "cell_type": "code",
   "execution_count": null,
   "id": "84adabf4",
   "metadata": {},
   "outputs": [],
   "source": []
  },
  {
   "cell_type": "code",
   "execution_count": null,
   "id": "359b5f61",
   "metadata": {},
   "outputs": [],
   "source": []
  },
  {
   "cell_type": "code",
   "execution_count": 6,
   "id": "c8f47fd9",
   "metadata": {},
   "outputs": [],
   "source": [
    "######################\n",
    "## Estimate word2vec embeddings using Gensim\n",
    "######################"
   ]
  },
  {
   "cell_type": "code",
   "execution_count": 7,
   "id": "54e35cfd",
   "metadata": {},
   "outputs": [],
   "source": [
    "##\n",
    "## Class for feeding in clinical notes from corpus\n",
    "##\n",
    "class MyCorpus:\n",
    "    \"\"\"An iterator that yields sentences (lists of str).\"\"\"\n",
    "\n",
    "    def __iter__(self):\n",
    "        for line in X.TEXT:\n",
    "            # assume there's one document per line, tokens separated by whitespace\n",
    "            yield utils.simple_preprocess(line)"
   ]
  },
  {
   "cell_type": "code",
   "execution_count": 8,
   "id": "c7b346c4",
   "metadata": {},
   "outputs": [
    {
     "data": {
      "text/plain": [
       "1753.4088599681854"
      ]
     },
     "execution_count": 8,
     "metadata": {},
     "output_type": "execute_result"
    }
   ],
   "source": [
    "##\n",
    "## Train word2vec model\n",
    "##\n",
    "sentences = MyCorpus()\n",
    "\n",
    "t0 = time()\n",
    "\n",
    "model = gensim.models.Word2Vec(sentences=sentences,    ## corpus iterator\n",
    "                              min_count=25,            ## Drop words from dict/vocab if occurrence frequency less than threshold\n",
    "                              vector_size=300,         ## Size/dimension of vector embedding\n",
    "                              window=5,                ## Window around context word, when determining TCM counts\n",
    "                              sg=1,                    ## sg=0 implies word2vec skip-gram model; else word2vec cbow model\n",
    "                              hs=1,                    ## hs=1 implies use of hierarchical softmax training\n",
    "                              seed=123456              ## random seed\n",
    "                              )\n",
    "t1 = time()\n",
    "\n",
    "runtime = t1-t0\n",
    "runtime"
   ]
  },
  {
   "cell_type": "code",
   "execution_count": null,
   "id": "ab502d47",
   "metadata": {},
   "outputs": [],
   "source": []
  },
  {
   "cell_type": "code",
   "execution_count": null,
   "id": "4a15c738",
   "metadata": {},
   "outputs": [],
   "source": []
  },
  {
   "cell_type": "code",
   "execution_count": 9,
   "id": "b7517c23",
   "metadata": {},
   "outputs": [],
   "source": [
    "######################\n",
    "##\n",
    "## Inspect properties of the learned word embeddings\n",
    "##\n",
    "######################"
   ]
  },
  {
   "cell_type": "code",
   "execution_count": 10,
   "id": "afbb8eb5",
   "metadata": {},
   "outputs": [],
   "source": [
    "######################\n",
    "## Word/token similarity tasks\n",
    "######################"
   ]
  },
  {
   "cell_type": "code",
   "execution_count": 11,
   "id": "e2619e90",
   "metadata": {},
   "outputs": [
    {
     "name": "stdout",
     "output_type": "stream",
     "text": [
      "('lipitor', 0.8466351628303528)\n",
      "('cozaar', 0.8359431028366089)\n",
      "('diovan', 0.8308151960372925)\n",
      "('zocor', 0.8248066902160645)\n",
      "('atenolol', 0.8202351927757263)\n"
     ]
    }
   ],
   "source": [
    "for w in model.wv.most_similar(positive=['norvasc'], topn=5):\n",
    "    print(w)"
   ]
  },
  {
   "cell_type": "code",
   "execution_count": 12,
   "id": "37b94d73",
   "metadata": {},
   "outputs": [
    {
     "name": "stdout",
     "output_type": "stream",
     "text": [
      "('ca', 0.7153682708740234)\n",
      "('breast', 0.6985347270965576)\n",
      "('melanoma', 0.6790291666984558)\n",
      "('cancers', 0.6641904711723328)\n",
      "('aunt', 0.6073940992355347)\n"
     ]
    }
   ],
   "source": [
    "for w in model.wv.most_similar(positive=['cancer'], topn=5):\n",
    "    print(w)"
   ]
  },
  {
   "cell_type": "code",
   "execution_count": 13,
   "id": "5d0ff76f",
   "metadata": {},
   "outputs": [
    {
     "name": "stdout",
     "output_type": "stream",
     "text": [
      "('bmt', 0.6313751339912415)\n",
      "('onc', 0.6132813692092896)\n",
      "('hematology', 0.61019366979599)\n",
      "('endocrinology', 0.55660480260849)\n",
      "('dermatology', 0.5399655103683472)\n"
     ]
    }
   ],
   "source": [
    "for w in model.wv.most_similar(positive=['oncology'], topn=5):\n",
    "    print(w)"
   ]
  },
  {
   "cell_type": "code",
   "execution_count": null,
   "id": "37ef5860",
   "metadata": {},
   "outputs": [],
   "source": []
  },
  {
   "cell_type": "code",
   "execution_count": null,
   "id": "51aaac4d",
   "metadata": {},
   "outputs": [],
   "source": []
  },
  {
   "cell_type": "code",
   "execution_count": 14,
   "id": "fd7206ad",
   "metadata": {},
   "outputs": [],
   "source": [
    "#######################\n",
    "## Word analogy tasks\n",
    "#######################"
   ]
  },
  {
   "cell_type": "code",
   "execution_count": 15,
   "id": "8aeed1f9",
   "metadata": {},
   "outputs": [
    {
     "name": "stdout",
     "output_type": "stream",
     "text": [
      "('mellitus', 0.6961442232131958)\n",
      "('dyslipidemia', 0.5625420808792114)\n",
      "('dm', 0.5499495267868042)\n",
      "('hyperlipidemia', 0.5374734401702881)\n",
      "('noninsulin', 0.532331109046936)\n"
     ]
    }
   ],
   "source": [
    "for w in model.wv.most_similar(positive=['hypertension', 'diabetes'], negative=['norvasc'], topn=5):\n",
    "    print(w)"
   ]
  },
  {
   "cell_type": "code",
   "execution_count": null,
   "id": "982321a3",
   "metadata": {},
   "outputs": [],
   "source": []
  },
  {
   "cell_type": "code",
   "execution_count": null,
   "id": "d4971e2c",
   "metadata": {},
   "outputs": [],
   "source": []
  },
  {
   "cell_type": "code",
   "execution_count": null,
   "id": "bb886533",
   "metadata": {},
   "outputs": [],
   "source": []
  },
  {
   "cell_type": "code",
   "execution_count": 16,
   "id": "d6fba40d",
   "metadata": {},
   "outputs": [],
   "source": [
    "######################\n",
    "## Notebook Environment\n",
    "######################"
   ]
  },
  {
   "cell_type": "code",
   "execution_count": 17,
   "id": "d2ce7491",
   "metadata": {},
   "outputs": [
    {
     "data": {
      "text/html": [
       "<details>\n",
       "<summary>Click to view session information</summary>\n",
       "<pre>\n",
       "-----\n",
       "gensim              4.3.0\n",
       "numpy               1.25.2\n",
       "pandas              1.2.4\n",
       "session_info        1.0.0\n",
       "-----\n",
       "</pre>\n",
       "<details>\n",
       "<summary>Click to view modules imported as dependencies</summary>\n",
       "<pre>\n",
       "anyio               NA\n",
       "asttokens           NA\n",
       "attr                22.1.0\n",
       "babel               2.11.0\n",
       "backcall            0.2.0\n",
       "beta_ufunc          NA\n",
       "binom_ufunc         NA\n",
       "bottleneck          1.3.5\n",
       "brotli              NA\n",
       "certifi             2023.11.17\n",
       "charset_normalizer  2.0.4\n",
       "colorama            0.4.6\n",
       "comm                0.1.2\n",
       "cython_runtime      NA\n",
       "dateutil            2.8.2\n",
       "debugpy             1.6.7\n",
       "decorator           5.1.1\n",
       "entrypoints         0.4\n",
       "executing           0.8.3\n",
       "fastjsonschema      NA\n",
       "google              NA\n",
       "hypergeom_ufunc     NA\n",
       "idna                3.4\n",
       "importlib_metadata  NA\n",
       "invgauss_ufunc      NA\n",
       "ipykernel           6.25.0\n",
       "ipython_genutils    0.2.0\n",
       "jedi                0.18.1\n",
       "jinja2              3.1.2\n",
       "json5               NA\n",
       "jsonschema          4.17.3\n",
       "jupyter_server      1.23.4\n",
       "jupyterlab_server   2.22.0\n",
       "markupsafe          2.1.1\n",
       "mpl_toolkits        NA\n",
       "nbformat            5.7.0\n",
       "nbinom_ufunc        NA\n",
       "ncf_ufunc           NA\n",
       "nct_ufunc           NA\n",
       "ncx2_ufunc          NA\n",
       "nt                  NA\n",
       "packaging           23.1\n",
       "parso               0.8.3\n",
       "pickleshare         0.7.5\n",
       "pkg_resources       NA\n",
       "platformdirs        3.10.0\n",
       "prometheus_client   NA\n",
       "prompt_toolkit      3.0.36\n",
       "psutil              5.9.0\n",
       "pure_eval           0.2.2\n",
       "pvectorc            NA\n",
       "pydev_ipython       NA\n",
       "pydevconsole        NA\n",
       "pydevd              2.9.5\n",
       "pydevd_file_utils   NA\n",
       "pydevd_plugins      NA\n",
       "pydevd_tracing      NA\n",
       "pygments            2.15.1\n",
       "pyrsistent          NA\n",
       "pythoncom           NA\n",
       "pytz                2022.7\n",
       "pywin32_system32    NA\n",
       "pywintypes          NA\n",
       "requests            2.31.0\n",
       "rfc3339_validator   0.1.4\n",
       "rfc3986_validator   0.1.1\n",
       "scipy               1.11.4\n",
       "send2trash          NA\n",
       "setuptools          68.0.0\n",
       "six                 1.16.0\n",
       "skewnorm_ufunc      NA\n",
       "smart_open          5.2.1\n",
       "sniffio             1.2.0\n",
       "socks               1.7.1\n",
       "stack_data          0.2.0\n",
       "terminado           0.17.1\n",
       "tornado             6.3.2\n",
       "traitlets           5.7.1\n",
       "typing_extensions   NA\n",
       "urllib3             1.26.16\n",
       "wcwidth             0.2.5\n",
       "websocket           0.58.0\n",
       "win32api            NA\n",
       "win32com            NA\n",
       "win32con            NA\n",
       "win32trace          NA\n",
       "winerror            NA\n",
       "winpty              2.0.10\n",
       "zipp                NA\n",
       "zmq                 24.0.1\n",
       "</pre>\n",
       "</details> <!-- seems like this ends pre, so might as well be explicit -->\n",
       "<pre>\n",
       "-----\n",
       "IPython             8.12.2\n",
       "jupyter_client      7.4.6\n",
       "jupyter_core        5.0.0\n",
       "jupyterlab          3.6.3\n",
       "notebook            6.5.4\n",
       "-----\n",
       "Python 3.9.17 (main, Jul  5 2023, 20:47:11) [MSC v.1916 64 bit (AMD64)]\n",
       "Windows-10-10.0.22621-SP0\n",
       "-----\n",
       "Session information updated at 2023-12-11 02:01\n",
       "</pre>\n",
       "</details>"
      ],
      "text/plain": [
       "<IPython.core.display.HTML object>"
      ]
     },
     "execution_count": 17,
     "metadata": {},
     "output_type": "execute_result"
    }
   ],
   "source": [
    "session_info.show()"
   ]
  },
  {
   "cell_type": "code",
   "execution_count": null,
   "id": "1545f92b",
   "metadata": {},
   "outputs": [],
   "source": []
  }
 ],
 "metadata": {
  "kernelspec": {
   "display_name": "Python 3 (ipykernel)",
   "language": "python",
   "name": "python3"
  },
  "language_info": {
   "codemirror_mode": {
    "name": "ipython",
    "version": 3
   },
   "file_extension": ".py",
   "mimetype": "text/x-python",
   "name": "python",
   "nbconvert_exporter": "python",
   "pygments_lexer": "ipython3",
   "version": "3.9.17"
  }
 },
 "nbformat": 4,
 "nbformat_minor": 5
}
