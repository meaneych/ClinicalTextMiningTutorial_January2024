{
 "cells": [
  {
   "cell_type": "code",
   "execution_count": 1,
   "metadata": {},
   "outputs": [],
   "source": [
    "##############################################\n",
    "## Import dependencies\n",
    "##############################################\n",
    "import spacy\n",
    "import medspacy\n",
    "import pandas as pd\n",
    "\n",
    "from medspacy.visualization import visualize_dep, visualize_ent\n",
    "\n",
    "from medspacy.context import ConTextRule, ConTextComponent\n",
    "from medspacy.ner import TargetRule"
   ]
  },
  {
   "cell_type": "code",
   "execution_count": 2,
   "metadata": {},
   "outputs": [
    {
     "name": "stderr",
     "output_type": "stream",
     "text": [
      "C:\\Users\\ChristopherMeaney\\AppData\\Local\\Temp\\ipykernel_8368\\2058709175.py:1: DeprecationWarning: Importing display from IPython.core.display is deprecated since IPython 7.14, please import from IPython display\n",
      "  from IPython.core.display import display, HTML\n"
     ]
    }
   ],
   "source": [
    "from IPython.core.display import display, HTML"
   ]
  },
  {
   "cell_type": "code",
   "execution_count": null,
   "metadata": {},
   "outputs": [],
   "source": []
  },
  {
   "cell_type": "code",
   "execution_count": null,
   "metadata": {},
   "outputs": [],
   "source": []
  },
  {
   "cell_type": "code",
   "execution_count": 3,
   "metadata": {},
   "outputs": [],
   "source": [
    "##############################################\n",
    "## Instantiate MedSpacy NLP pipeline\n",
    "##############################################"
   ]
  },
  {
   "cell_type": "code",
   "execution_count": 4,
   "metadata": {},
   "outputs": [],
   "source": [
    "## Some example housing/homelessness data which comes from Chapman et al\n",
    "## https://www.ncbi.nlm.nih.gov/pmc/articles/PMC8608249/\n",
    "\n",
    "#texts = ['The veteran is doing well in her new apartment.',\n",
    "  #      'He is current on the rent.',\n",
    "  #      'Veteran admitted from the streets.',\n",
    "  #      'The patient is currently literally homeless.',\n",
    "  #      'Spent last night at the Mission.',\n",
    "  #      'Got a bed at a shelter downtown.',\n",
    "  #      'His mother let him stay with her.',\n",
    "  #      'She crashed at a friend’s house.',\n",
    "  #      'Cannot pay the upcoming rent.',\n",
    "  #      'Got an eviction notice.']\n",
    "\n",
    "# texts"
   ]
  },
  {
   "cell_type": "code",
   "execution_count": 5,
   "metadata": {},
   "outputs": [],
   "source": [
    "## Some simpler text documents meant to illustrate diversity of context rules which can be written re: housing/homelessness\n",
    "texts = [\n",
    "    \"the patient is homeless\",\n",
    "    \"my brother is homeless\",\n",
    "    \"I used to be homeless\",\n",
    "    \"I suspect the patient is homeless\",\n",
    "    \"the patient is not homeless\"\n",
    "]"
   ]
  },
  {
   "cell_type": "code",
   "execution_count": 6,
   "metadata": {},
   "outputs": [
    {
     "data": {
      "text/plain": [
       "['the patient is homeless',\n",
       " 'my brother is homeless',\n",
       " 'I used to be homeless',\n",
       " 'I suspect the patient is homeless',\n",
       " 'the patient is not homeless']"
      ]
     },
     "execution_count": 6,
     "metadata": {},
     "output_type": "execute_result"
    }
   ],
   "source": [
    "texts"
   ]
  },
  {
   "cell_type": "code",
   "execution_count": 7,
   "metadata": {},
   "outputs": [],
   "source": [
    "##\n",
    "## One of the pre-loaded spacy (not medspacy yet) opinionated NLP pipelines\n",
    "##\n",
    "nlp_spacy = spacy.load('en_core_web_sm')"
   ]
  },
  {
   "cell_type": "code",
   "execution_count": 8,
   "metadata": {},
   "outputs": [
    {
     "data": {
      "text/plain": [
       "['tok2vec', 'tagger', 'parser', 'attribute_ruler', 'lemmatizer', 'ner']"
      ]
     },
     "execution_count": 8,
     "metadata": {},
     "output_type": "execute_result"
    }
   ],
   "source": [
    "nlp_spacy.pipe_names"
   ]
  },
  {
   "cell_type": "code",
   "execution_count": 9,
   "metadata": {},
   "outputs": [],
   "source": [
    "## Run the docs through the pipeline\n",
    "docs_spacy = nlp_spacy.pipe(texts) "
   ]
  },
  {
   "cell_type": "code",
   "execution_count": 10,
   "metadata": {},
   "outputs": [],
   "source": [
    "##\n",
    "## Some helper functions below which will transform spacy NLP pipeline outputs to pandas data.frame\n",
    "## https://towardsdatascience.com/structured-natural-language-processing-with-pandas-and-spacy-7089e66d2b10\n",
    "##"
   ]
  },
  {
   "cell_type": "code",
   "execution_count": 11,
   "metadata": {},
   "outputs": [],
   "source": [
    "def extract_tokens_plus_meta(doc:spacy.tokens.doc.Doc):\n",
    "    \"\"\"Extract tokens and metadata from individual spaCy doc.\"\"\"\n",
    "    return [\n",
    "        (i.text, i.i, i.lemma_, i.ent_type_, i.tag_, \n",
    "         i.dep_, i.pos_, i.is_stop, i.is_alpha, \n",
    "         i.is_digit, i.is_punct) for i in doc\n",
    "    ]"
   ]
  },
  {
   "cell_type": "code",
   "execution_count": 12,
   "metadata": {},
   "outputs": [],
   "source": [
    "def tidy_tokens(docs):\n",
    "    \"\"\"Extract tokens and metadata from list of spaCy docs.\"\"\"\n",
    "    \n",
    "    cols = [\n",
    "        \"doc_id\", \"token\", \"token_order\", \"lemma\", \n",
    "        \"ent_type\", \"tag\", \"dep\", \"pos\", \"is_stop\", \n",
    "        \"is_alpha\", \"is_digit\", \"is_punct\"\n",
    "    ]\n",
    "    \n",
    "    meta_df = []\n",
    "    for ix, doc in enumerate(docs):\n",
    "        meta = extract_tokens_plus_meta(doc)\n",
    "        meta = pd.DataFrame(meta)\n",
    "        meta.columns = cols[1:]\n",
    "        meta = meta.assign(doc_id = ix).loc[:, cols]\n",
    "        meta_df.append(meta)\n",
    "        \n",
    "    return pd.concat(meta_df)"
   ]
  },
  {
   "cell_type": "code",
   "execution_count": 13,
   "metadata": {},
   "outputs": [
    {
     "data": {
      "text/html": [
       "<div>\n",
       "<style scoped>\n",
       "    .dataframe tbody tr th:only-of-type {\n",
       "        vertical-align: middle;\n",
       "    }\n",
       "\n",
       "    .dataframe tbody tr th {\n",
       "        vertical-align: top;\n",
       "    }\n",
       "\n",
       "    .dataframe thead th {\n",
       "        text-align: right;\n",
       "    }\n",
       "</style>\n",
       "<table border=\"1\" class=\"dataframe\">\n",
       "  <thead>\n",
       "    <tr style=\"text-align: right;\">\n",
       "      <th></th>\n",
       "      <th>doc_id</th>\n",
       "      <th>token</th>\n",
       "      <th>token_order</th>\n",
       "      <th>lemma</th>\n",
       "      <th>ent_type</th>\n",
       "      <th>tag</th>\n",
       "      <th>dep</th>\n",
       "      <th>pos</th>\n",
       "      <th>is_stop</th>\n",
       "      <th>is_alpha</th>\n",
       "      <th>is_digit</th>\n",
       "      <th>is_punct</th>\n",
       "    </tr>\n",
       "  </thead>\n",
       "  <tbody>\n",
       "    <tr>\n",
       "      <th>0</th>\n",
       "      <td>0</td>\n",
       "      <td>the</td>\n",
       "      <td>0</td>\n",
       "      <td>the</td>\n",
       "      <td></td>\n",
       "      <td>DT</td>\n",
       "      <td>det</td>\n",
       "      <td>DET</td>\n",
       "      <td>True</td>\n",
       "      <td>True</td>\n",
       "      <td>False</td>\n",
       "      <td>False</td>\n",
       "    </tr>\n",
       "    <tr>\n",
       "      <th>1</th>\n",
       "      <td>0</td>\n",
       "      <td>patient</td>\n",
       "      <td>1</td>\n",
       "      <td>patient</td>\n",
       "      <td></td>\n",
       "      <td>NN</td>\n",
       "      <td>nsubj</td>\n",
       "      <td>NOUN</td>\n",
       "      <td>False</td>\n",
       "      <td>True</td>\n",
       "      <td>False</td>\n",
       "      <td>False</td>\n",
       "    </tr>\n",
       "    <tr>\n",
       "      <th>2</th>\n",
       "      <td>0</td>\n",
       "      <td>is</td>\n",
       "      <td>2</td>\n",
       "      <td>be</td>\n",
       "      <td></td>\n",
       "      <td>VBZ</td>\n",
       "      <td>ROOT</td>\n",
       "      <td>AUX</td>\n",
       "      <td>True</td>\n",
       "      <td>True</td>\n",
       "      <td>False</td>\n",
       "      <td>False</td>\n",
       "    </tr>\n",
       "    <tr>\n",
       "      <th>3</th>\n",
       "      <td>0</td>\n",
       "      <td>homeless</td>\n",
       "      <td>3</td>\n",
       "      <td>homeless</td>\n",
       "      <td></td>\n",
       "      <td>JJ</td>\n",
       "      <td>acomp</td>\n",
       "      <td>ADJ</td>\n",
       "      <td>False</td>\n",
       "      <td>True</td>\n",
       "      <td>False</td>\n",
       "      <td>False</td>\n",
       "    </tr>\n",
       "    <tr>\n",
       "      <th>0</th>\n",
       "      <td>1</td>\n",
       "      <td>my</td>\n",
       "      <td>0</td>\n",
       "      <td>my</td>\n",
       "      <td></td>\n",
       "      <td>PRP$</td>\n",
       "      <td>poss</td>\n",
       "      <td>PRON</td>\n",
       "      <td>True</td>\n",
       "      <td>True</td>\n",
       "      <td>False</td>\n",
       "      <td>False</td>\n",
       "    </tr>\n",
       "    <tr>\n",
       "      <th>1</th>\n",
       "      <td>1</td>\n",
       "      <td>brother</td>\n",
       "      <td>1</td>\n",
       "      <td>brother</td>\n",
       "      <td></td>\n",
       "      <td>NN</td>\n",
       "      <td>nsubj</td>\n",
       "      <td>NOUN</td>\n",
       "      <td>False</td>\n",
       "      <td>True</td>\n",
       "      <td>False</td>\n",
       "      <td>False</td>\n",
       "    </tr>\n",
       "    <tr>\n",
       "      <th>2</th>\n",
       "      <td>1</td>\n",
       "      <td>is</td>\n",
       "      <td>2</td>\n",
       "      <td>be</td>\n",
       "      <td></td>\n",
       "      <td>VBZ</td>\n",
       "      <td>ROOT</td>\n",
       "      <td>AUX</td>\n",
       "      <td>True</td>\n",
       "      <td>True</td>\n",
       "      <td>False</td>\n",
       "      <td>False</td>\n",
       "    </tr>\n",
       "    <tr>\n",
       "      <th>3</th>\n",
       "      <td>1</td>\n",
       "      <td>homeless</td>\n",
       "      <td>3</td>\n",
       "      <td>homeless</td>\n",
       "      <td></td>\n",
       "      <td>JJ</td>\n",
       "      <td>acomp</td>\n",
       "      <td>ADJ</td>\n",
       "      <td>False</td>\n",
       "      <td>True</td>\n",
       "      <td>False</td>\n",
       "      <td>False</td>\n",
       "    </tr>\n",
       "    <tr>\n",
       "      <th>0</th>\n",
       "      <td>2</td>\n",
       "      <td>I</td>\n",
       "      <td>0</td>\n",
       "      <td>I</td>\n",
       "      <td></td>\n",
       "      <td>PRP</td>\n",
       "      <td>nsubj</td>\n",
       "      <td>PRON</td>\n",
       "      <td>True</td>\n",
       "      <td>True</td>\n",
       "      <td>False</td>\n",
       "      <td>False</td>\n",
       "    </tr>\n",
       "    <tr>\n",
       "      <th>1</th>\n",
       "      <td>2</td>\n",
       "      <td>used</td>\n",
       "      <td>1</td>\n",
       "      <td>use</td>\n",
       "      <td></td>\n",
       "      <td>VBD</td>\n",
       "      <td>ROOT</td>\n",
       "      <td>VERB</td>\n",
       "      <td>True</td>\n",
       "      <td>True</td>\n",
       "      <td>False</td>\n",
       "      <td>False</td>\n",
       "    </tr>\n",
       "    <tr>\n",
       "      <th>2</th>\n",
       "      <td>2</td>\n",
       "      <td>to</td>\n",
       "      <td>2</td>\n",
       "      <td>to</td>\n",
       "      <td></td>\n",
       "      <td>TO</td>\n",
       "      <td>aux</td>\n",
       "      <td>PART</td>\n",
       "      <td>True</td>\n",
       "      <td>True</td>\n",
       "      <td>False</td>\n",
       "      <td>False</td>\n",
       "    </tr>\n",
       "    <tr>\n",
       "      <th>3</th>\n",
       "      <td>2</td>\n",
       "      <td>be</td>\n",
       "      <td>3</td>\n",
       "      <td>be</td>\n",
       "      <td></td>\n",
       "      <td>VB</td>\n",
       "      <td>xcomp</td>\n",
       "      <td>VERB</td>\n",
       "      <td>True</td>\n",
       "      <td>True</td>\n",
       "      <td>False</td>\n",
       "      <td>False</td>\n",
       "    </tr>\n",
       "    <tr>\n",
       "      <th>4</th>\n",
       "      <td>2</td>\n",
       "      <td>homeless</td>\n",
       "      <td>4</td>\n",
       "      <td>homeless</td>\n",
       "      <td></td>\n",
       "      <td>JJ</td>\n",
       "      <td>acomp</td>\n",
       "      <td>ADJ</td>\n",
       "      <td>False</td>\n",
       "      <td>True</td>\n",
       "      <td>False</td>\n",
       "      <td>False</td>\n",
       "    </tr>\n",
       "    <tr>\n",
       "      <th>0</th>\n",
       "      <td>3</td>\n",
       "      <td>I</td>\n",
       "      <td>0</td>\n",
       "      <td>I</td>\n",
       "      <td></td>\n",
       "      <td>PRP</td>\n",
       "      <td>nsubj</td>\n",
       "      <td>PRON</td>\n",
       "      <td>True</td>\n",
       "      <td>True</td>\n",
       "      <td>False</td>\n",
       "      <td>False</td>\n",
       "    </tr>\n",
       "    <tr>\n",
       "      <th>1</th>\n",
       "      <td>3</td>\n",
       "      <td>suspect</td>\n",
       "      <td>1</td>\n",
       "      <td>suspect</td>\n",
       "      <td></td>\n",
       "      <td>VBP</td>\n",
       "      <td>ROOT</td>\n",
       "      <td>VERB</td>\n",
       "      <td>False</td>\n",
       "      <td>True</td>\n",
       "      <td>False</td>\n",
       "      <td>False</td>\n",
       "    </tr>\n",
       "    <tr>\n",
       "      <th>2</th>\n",
       "      <td>3</td>\n",
       "      <td>the</td>\n",
       "      <td>2</td>\n",
       "      <td>the</td>\n",
       "      <td></td>\n",
       "      <td>DT</td>\n",
       "      <td>det</td>\n",
       "      <td>DET</td>\n",
       "      <td>True</td>\n",
       "      <td>True</td>\n",
       "      <td>False</td>\n",
       "      <td>False</td>\n",
       "    </tr>\n",
       "    <tr>\n",
       "      <th>3</th>\n",
       "      <td>3</td>\n",
       "      <td>patient</td>\n",
       "      <td>3</td>\n",
       "      <td>patient</td>\n",
       "      <td></td>\n",
       "      <td>NN</td>\n",
       "      <td>nsubj</td>\n",
       "      <td>NOUN</td>\n",
       "      <td>False</td>\n",
       "      <td>True</td>\n",
       "      <td>False</td>\n",
       "      <td>False</td>\n",
       "    </tr>\n",
       "    <tr>\n",
       "      <th>4</th>\n",
       "      <td>3</td>\n",
       "      <td>is</td>\n",
       "      <td>4</td>\n",
       "      <td>be</td>\n",
       "      <td></td>\n",
       "      <td>VBZ</td>\n",
       "      <td>ccomp</td>\n",
       "      <td>AUX</td>\n",
       "      <td>True</td>\n",
       "      <td>True</td>\n",
       "      <td>False</td>\n",
       "      <td>False</td>\n",
       "    </tr>\n",
       "    <tr>\n",
       "      <th>5</th>\n",
       "      <td>3</td>\n",
       "      <td>homeless</td>\n",
       "      <td>5</td>\n",
       "      <td>homeless</td>\n",
       "      <td></td>\n",
       "      <td>JJ</td>\n",
       "      <td>acomp</td>\n",
       "      <td>ADJ</td>\n",
       "      <td>False</td>\n",
       "      <td>True</td>\n",
       "      <td>False</td>\n",
       "      <td>False</td>\n",
       "    </tr>\n",
       "    <tr>\n",
       "      <th>0</th>\n",
       "      <td>4</td>\n",
       "      <td>the</td>\n",
       "      <td>0</td>\n",
       "      <td>the</td>\n",
       "      <td></td>\n",
       "      <td>DT</td>\n",
       "      <td>det</td>\n",
       "      <td>DET</td>\n",
       "      <td>True</td>\n",
       "      <td>True</td>\n",
       "      <td>False</td>\n",
       "      <td>False</td>\n",
       "    </tr>\n",
       "    <tr>\n",
       "      <th>1</th>\n",
       "      <td>4</td>\n",
       "      <td>patient</td>\n",
       "      <td>1</td>\n",
       "      <td>patient</td>\n",
       "      <td></td>\n",
       "      <td>NN</td>\n",
       "      <td>nsubj</td>\n",
       "      <td>NOUN</td>\n",
       "      <td>False</td>\n",
       "      <td>True</td>\n",
       "      <td>False</td>\n",
       "      <td>False</td>\n",
       "    </tr>\n",
       "    <tr>\n",
       "      <th>2</th>\n",
       "      <td>4</td>\n",
       "      <td>is</td>\n",
       "      <td>2</td>\n",
       "      <td>be</td>\n",
       "      <td></td>\n",
       "      <td>VBZ</td>\n",
       "      <td>ROOT</td>\n",
       "      <td>AUX</td>\n",
       "      <td>True</td>\n",
       "      <td>True</td>\n",
       "      <td>False</td>\n",
       "      <td>False</td>\n",
       "    </tr>\n",
       "    <tr>\n",
       "      <th>3</th>\n",
       "      <td>4</td>\n",
       "      <td>not</td>\n",
       "      <td>3</td>\n",
       "      <td>not</td>\n",
       "      <td></td>\n",
       "      <td>RB</td>\n",
       "      <td>neg</td>\n",
       "      <td>PART</td>\n",
       "      <td>True</td>\n",
       "      <td>True</td>\n",
       "      <td>False</td>\n",
       "      <td>False</td>\n",
       "    </tr>\n",
       "    <tr>\n",
       "      <th>4</th>\n",
       "      <td>4</td>\n",
       "      <td>homeless</td>\n",
       "      <td>4</td>\n",
       "      <td>homeless</td>\n",
       "      <td></td>\n",
       "      <td>JJ</td>\n",
       "      <td>acomp</td>\n",
       "      <td>ADJ</td>\n",
       "      <td>False</td>\n",
       "      <td>True</td>\n",
       "      <td>False</td>\n",
       "      <td>False</td>\n",
       "    </tr>\n",
       "  </tbody>\n",
       "</table>\n",
       "</div>"
      ],
      "text/plain": [
       "   doc_id     token  token_order     lemma ent_type   tag    dep   pos  \\\n",
       "0       0       the            0       the             DT    det   DET   \n",
       "1       0   patient            1   patient             NN  nsubj  NOUN   \n",
       "2       0        is            2        be            VBZ   ROOT   AUX   \n",
       "3       0  homeless            3  homeless             JJ  acomp   ADJ   \n",
       "0       1        my            0        my           PRP$   poss  PRON   \n",
       "1       1   brother            1   brother             NN  nsubj  NOUN   \n",
       "2       1        is            2        be            VBZ   ROOT   AUX   \n",
       "3       1  homeless            3  homeless             JJ  acomp   ADJ   \n",
       "0       2         I            0         I            PRP  nsubj  PRON   \n",
       "1       2      used            1       use            VBD   ROOT  VERB   \n",
       "2       2        to            2        to             TO    aux  PART   \n",
       "3       2        be            3        be             VB  xcomp  VERB   \n",
       "4       2  homeless            4  homeless             JJ  acomp   ADJ   \n",
       "0       3         I            0         I            PRP  nsubj  PRON   \n",
       "1       3   suspect            1   suspect            VBP   ROOT  VERB   \n",
       "2       3       the            2       the             DT    det   DET   \n",
       "3       3   patient            3   patient             NN  nsubj  NOUN   \n",
       "4       3        is            4        be            VBZ  ccomp   AUX   \n",
       "5       3  homeless            5  homeless             JJ  acomp   ADJ   \n",
       "0       4       the            0       the             DT    det   DET   \n",
       "1       4   patient            1   patient             NN  nsubj  NOUN   \n",
       "2       4        is            2        be            VBZ   ROOT   AUX   \n",
       "3       4       not            3       not             RB    neg  PART   \n",
       "4       4  homeless            4  homeless             JJ  acomp   ADJ   \n",
       "\n",
       "   is_stop  is_alpha  is_digit  is_punct  \n",
       "0     True      True     False     False  \n",
       "1    False      True     False     False  \n",
       "2     True      True     False     False  \n",
       "3    False      True     False     False  \n",
       "0     True      True     False     False  \n",
       "1    False      True     False     False  \n",
       "2     True      True     False     False  \n",
       "3    False      True     False     False  \n",
       "0     True      True     False     False  \n",
       "1     True      True     False     False  \n",
       "2     True      True     False     False  \n",
       "3     True      True     False     False  \n",
       "4    False      True     False     False  \n",
       "0     True      True     False     False  \n",
       "1    False      True     False     False  \n",
       "2     True      True     False     False  \n",
       "3    False      True     False     False  \n",
       "4     True      True     False     False  \n",
       "5    False      True     False     False  \n",
       "0     True      True     False     False  \n",
       "1    False      True     False     False  \n",
       "2     True      True     False     False  \n",
       "3     True      True     False     False  \n",
       "4    False      True     False     False  "
      ]
     },
     "execution_count": 13,
     "metadata": {},
     "output_type": "execute_result"
    }
   ],
   "source": [
    "## Spacy processed documents to pandas dataframe using UDFs from above\n",
    "tidy_tokens(docs=docs_spacy)"
   ]
  },
  {
   "cell_type": "code",
   "execution_count": null,
   "metadata": {},
   "outputs": [],
   "source": []
  },
  {
   "cell_type": "code",
   "execution_count": null,
   "metadata": {},
   "outputs": [],
   "source": []
  },
  {
   "cell_type": "code",
   "execution_count": 14,
   "metadata": {},
   "outputs": [],
   "source": [
    "###########################################\n",
    "## Below we apply lightweight medspacy NLP pipeline to simple housing/homelessness texts defined above\n",
    "## Two components of interest:\n",
    "##    1) Identify housing/homelessness mentions in free text\n",
    "##    2) Determine if the above housing/homelessness mention occurs in the presence of a contextual modifier\n",
    "###########################################"
   ]
  },
  {
   "cell_type": "code",
   "execution_count": 15,
   "metadata": {},
   "outputs": [],
   "source": [
    "nlp_medspacy = medspacy.load()"
   ]
  },
  {
   "cell_type": "code",
   "execution_count": 16,
   "metadata": {},
   "outputs": [
    {
     "data": {
      "text/plain": [
       "['medspacy_pyrush', 'medspacy_target_matcher', 'medspacy_context']"
      ]
     },
     "execution_count": 16,
     "metadata": {},
     "output_type": "execute_result"
    }
   ],
   "source": [
    "nlp_medspacy.pipe_names"
   ]
  },
  {
   "cell_type": "code",
   "execution_count": 17,
   "metadata": {},
   "outputs": [],
   "source": [
    "###########################################\n",
    "## Define target entities to match with pattern searchers\n",
    "## \n",
    "## WARNING: Spacy/MedSpacy match on TOKENS and NOT string patterns per se (this has pros and cons depending on goals)\n",
    "##          Read docs: https://spacy.io/usage/rule-based-matching\n",
    "##          Test API: https://explosion.ai/demos/matcher\n",
    "###########################################"
   ]
  },
  {
   "cell_type": "code",
   "execution_count": 18,
   "metadata": {},
   "outputs": [],
   "source": [
    "##\n",
    "## Good examples: See examples of how to write target matching, and context matching code at:\n",
    "##\n",
    "## https://github.com/abchapman93/VA_COVID-19_NLP_BSV/tree/master/cov_bsv/knowledge_base\n",
    "## https://github.com/abchapman93/ReHouSED/tree/main/rehoused_nlp/resources\n",
    "##"
   ]
  },
  {
   "cell_type": "code",
   "execution_count": 19,
   "metadata": {},
   "outputs": [],
   "source": [
    "## Instantiatee target matcher\n",
    "target_matcher = nlp_medspacy.get_pipe(\"medspacy_target_matcher\")"
   ]
  },
  {
   "cell_type": "code",
   "execution_count": 20,
   "metadata": {},
   "outputs": [],
   "source": [
    "## Add target rules to the pipeline, to extract entities from note above\n",
    "target_rules_housing = [\n",
    "    ## String literal searchers\n",
    "    TargetRule(literal=\"homeless\", category=\"HOMELESS\")\n",
    "]"
   ]
  },
  {
   "cell_type": "code",
   "execution_count": 21,
   "metadata": {},
   "outputs": [],
   "source": [
    "## Add target rules defined above to the entity matcher\n",
    "target_matcher.add(target_rules_housing)"
   ]
  },
  {
   "cell_type": "code",
   "execution_count": null,
   "metadata": {},
   "outputs": [],
   "source": []
  },
  {
   "cell_type": "code",
   "execution_count": 22,
   "metadata": {},
   "outputs": [],
   "source": [
    "#########################################\n",
    "## Add context rules to medspacy NLP pipeline\n",
    "#########################################"
   ]
  },
  {
   "cell_type": "code",
   "execution_count": 23,
   "metadata": {},
   "outputs": [],
   "source": [
    "context_rules = [\n",
    "    ConTextRule(\"not\", \"NEGATED_EXISTENCE\"),\n",
    "    ConTextRule(\"brother\", \"OTHER_EXPERIENCER\"),\n",
    "    ConTextRule(\"suspect\", \"HYPOTHETICAL MENTION\", pattern=[{\"LOWER\": \"suspect\"}]),\n",
    "    ConTextRule(\"used to be\", \"HISTORICAL_MENTION\")    \n",
    "]"
   ]
  },
  {
   "cell_type": "code",
   "execution_count": 24,
   "metadata": {},
   "outputs": [],
   "source": [
    "## Clear off-the-shelf context rules from pipeline\n",
    "context = ConTextComponent(nlp_medspacy, rules=None)"
   ]
  },
  {
   "cell_type": "code",
   "execution_count": 25,
   "metadata": {},
   "outputs": [],
   "source": [
    "## Add out custom context rules defined above/below\n",
    "context.add(context_rules)"
   ]
  },
  {
   "cell_type": "code",
   "execution_count": 26,
   "metadata": {},
   "outputs": [
    {
     "data": {
      "text/plain": [
       "[ConTextRule(literal='not', category='NEGATED_EXISTENCE', pattern=None, direction='BIDIRECTIONAL'),\n",
       " ConTextRule(literal='brother', category='OTHER_EXPERIENCER', pattern=None, direction='BIDIRECTIONAL'),\n",
       " ConTextRule(literal='suspect', category='HYPOTHETICAL MENTION', pattern=[{'LOWER': 'suspect'}], direction='BIDIRECTIONAL'),\n",
       " ConTextRule(literal='used to be', category='HISTORICAL_MENTION', pattern=None, direction='BIDIRECTIONAL')]"
      ]
     },
     "execution_count": 26,
     "metadata": {},
     "output_type": "execute_result"
    }
   ],
   "source": [
    "## Once loaded we can print the rules as follows\n",
    "context.rules"
   ]
  },
  {
   "cell_type": "code",
   "execution_count": 27,
   "metadata": {},
   "outputs": [],
   "source": [
    "#len(context.rules)"
   ]
  },
  {
   "cell_type": "code",
   "execution_count": 28,
   "metadata": {},
   "outputs": [
    {
     "data": {
      "text/plain": [
       "{'HISTORICAL_MENTION',\n",
       " 'HYPOTHETICAL MENTION',\n",
       " 'NEGATED_EXISTENCE',\n",
       " 'OTHER_EXPERIENCER'}"
      ]
     },
     "execution_count": 28,
     "metadata": {},
     "output_type": "execute_result"
    }
   ],
   "source": [
    "## And we can inspect the unique set of context modifier categories\n",
    "context.categories"
   ]
  },
  {
   "cell_type": "code",
   "execution_count": null,
   "metadata": {},
   "outputs": [],
   "source": []
  },
  {
   "cell_type": "code",
   "execution_count": null,
   "metadata": {},
   "outputs": [],
   "source": []
  },
  {
   "cell_type": "code",
   "execution_count": 29,
   "metadata": {},
   "outputs": [
    {
     "name": "stderr",
     "output_type": "stream",
     "text": [
      "C:\\Users\\ChristopherMeaney\\anaconda3\\envs\\medspacy_demo\\lib\\site-packages\\medspacy\\common\\medspacy_matcher.py:80: UserWarning: [W036] The component 'matcher' does not have any patterns defined.\n",
      "  matches = self.matcher(doc)\n",
      "C:\\Users\\ChristopherMeaney\\anaconda3\\envs\\medspacy_demo\\lib\\site-packages\\medspacy\\common\\medspacy_matcher.py:80: UserWarning: [W036] The component 'matcher' does not have any patterns defined.\n",
      "  matches = self.matcher(doc)\n",
      "C:\\Users\\ChristopherMeaney\\anaconda3\\envs\\medspacy_demo\\lib\\site-packages\\medspacy\\common\\medspacy_matcher.py:80: UserWarning: [W036] The component 'matcher' does not have any patterns defined.\n",
      "  matches = self.matcher(doc)\n",
      "C:\\Users\\ChristopherMeaney\\anaconda3\\envs\\medspacy_demo\\lib\\site-packages\\medspacy\\common\\medspacy_matcher.py:80: UserWarning: [W036] The component 'matcher' does not have any patterns defined.\n",
      "  matches = self.matcher(doc)\n",
      "C:\\Users\\ChristopherMeaney\\anaconda3\\envs\\medspacy_demo\\lib\\site-packages\\medspacy\\common\\medspacy_matcher.py:80: UserWarning: [W036] The component 'matcher' does not have any patterns defined.\n",
      "  matches = self.matcher(doc)\n"
     ]
    }
   ],
   "source": [
    "##\n",
    "## Run the medspacy NLP pipeline over the texts\n",
    "##\n",
    "docs = list(nlp_medspacy.pipe(texts))"
   ]
  },
  {
   "cell_type": "code",
   "execution_count": 30,
   "metadata": {},
   "outputs": [],
   "source": [
    "##\n",
    "## Now for each processed document, further run our custom contextual analyzer over the documents\n",
    "##\n",
    "for doc in docs:\n",
    "    context(doc)"
   ]
  },
  {
   "cell_type": "code",
   "execution_count": 31,
   "metadata": {},
   "outputs": [
    {
     "name": "stderr",
     "output_type": "stream",
     "text": [
      "C:\\Users\\ChristopherMeaney\\anaconda3\\envs\\medspacy_demo\\lib\\site-packages\\spacy\\displacy\\__init__.py:65: DeprecationWarning: Importing display from IPython.core.display is deprecated since IPython 7.14, please import from IPython display\n",
      "  from IPython.core.display import display, HTML\n"
     ]
    },
    {
     "data": {
      "text/html": [
       "<span class=\"tex2jax_ignore\"><svg xmlns=\"http://www.w3.org/2000/svg\" xmlns:xlink=\"http://www.w3.org/1999/xlink\" xml:lang=\"en\" id=\"f670e93dc913494f8b5dafccfbc69e21-0\" class=\"displacy\" width=\"750\" height=\"137.0\" direction=\"ltr\" style=\"max-width: none; height: 137.0px; color: #000000; background: #ffffff; font-family: Arial; direction: ltr\">\n",
       "<text class=\"displacy-token\" fill=\"currentColor\" text-anchor=\"middle\" y=\"47.0\">\n",
       "    <tspan class=\"displacy-word\" fill=\"currentColor\" x=\"50\">the</tspan>\n",
       "    <tspan class=\"displacy-tag\" dy=\"2em\" fill=\"currentColor\" x=\"50\"></tspan>\n",
       "</text>\n",
       "\n",
       "<text class=\"displacy-token\" fill=\"currentColor\" text-anchor=\"middle\" y=\"47.0\">\n",
       "    <tspan class=\"displacy-word\" fill=\"currentColor\" x=\"225\">patient</tspan>\n",
       "    <tspan class=\"displacy-tag\" dy=\"2em\" fill=\"currentColor\" x=\"225\"></tspan>\n",
       "</text>\n",
       "\n",
       "<text class=\"displacy-token\" fill=\"currentColor\" text-anchor=\"middle\" y=\"47.0\">\n",
       "    <tspan class=\"displacy-word\" fill=\"currentColor\" x=\"400\">is</tspan>\n",
       "    <tspan class=\"displacy-tag\" dy=\"2em\" fill=\"currentColor\" x=\"400\"></tspan>\n",
       "</text>\n",
       "\n",
       "<text class=\"displacy-token\" fill=\"currentColor\" text-anchor=\"middle\" y=\"47.0\">\n",
       "    <tspan class=\"displacy-word\" fill=\"currentColor\" x=\"575\">homeless</tspan>\n",
       "    <tspan class=\"displacy-tag\" dy=\"2em\" fill=\"currentColor\" x=\"575\">HOMELESS</tspan>\n",
       "</text>\n",
       "</svg></span>"
      ],
      "text/plain": [
       "<IPython.core.display.HTML object>"
      ]
     },
     "metadata": {},
     "output_type": "display_data"
    }
   ],
   "source": [
    "##\n",
    "## Visualize (potential) dependencies between tagged entities (\"homeless\" string) and contextual modifiers\n",
    "##\n",
    "visualize_dep(docs[0])"
   ]
  },
  {
   "cell_type": "code",
   "execution_count": 32,
   "metadata": {},
   "outputs": [
    {
     "name": "stderr",
     "output_type": "stream",
     "text": [
      "C:\\Users\\ChristopherMeaney\\anaconda3\\envs\\medspacy_demo\\lib\\site-packages\\spacy\\displacy\\__init__.py:65: DeprecationWarning: Importing display from IPython.core.display is deprecated since IPython 7.14, please import from IPython display\n",
      "  from IPython.core.display import display, HTML\n"
     ]
    },
    {
     "data": {
      "text/html": [
       "<span class=\"tex2jax_ignore\"><svg xmlns=\"http://www.w3.org/2000/svg\" xmlns:xlink=\"http://www.w3.org/1999/xlink\" xml:lang=\"en\" id=\"463539190f334e8da51156dc1535ac62-0\" class=\"displacy\" width=\"750\" height=\"224.5\" direction=\"ltr\" style=\"max-width: none; height: 224.5px; color: #000000; background: #ffffff; font-family: Arial; direction: ltr\">\n",
       "<text class=\"displacy-token\" fill=\"currentColor\" text-anchor=\"middle\" y=\"134.5\">\n",
       "    <tspan class=\"displacy-word\" fill=\"currentColor\" x=\"50\">my</tspan>\n",
       "    <tspan class=\"displacy-tag\" dy=\"2em\" fill=\"currentColor\" x=\"50\"></tspan>\n",
       "</text>\n",
       "\n",
       "<text class=\"displacy-token\" fill=\"currentColor\" text-anchor=\"middle\" y=\"134.5\">\n",
       "    <tspan class=\"displacy-word\" fill=\"currentColor\" x=\"225\">brother</tspan>\n",
       "    <tspan class=\"displacy-tag\" dy=\"2em\" fill=\"currentColor\" x=\"225\"></tspan>\n",
       "</text>\n",
       "\n",
       "<text class=\"displacy-token\" fill=\"currentColor\" text-anchor=\"middle\" y=\"134.5\">\n",
       "    <tspan class=\"displacy-word\" fill=\"currentColor\" x=\"400\">is</tspan>\n",
       "    <tspan class=\"displacy-tag\" dy=\"2em\" fill=\"currentColor\" x=\"400\"></tspan>\n",
       "</text>\n",
       "\n",
       "<text class=\"displacy-token\" fill=\"currentColor\" text-anchor=\"middle\" y=\"134.5\">\n",
       "    <tspan class=\"displacy-word\" fill=\"currentColor\" x=\"575\">homeless</tspan>\n",
       "    <tspan class=\"displacy-tag\" dy=\"2em\" fill=\"currentColor\" x=\"575\">HOMELESS</tspan>\n",
       "</text>\n",
       "\n",
       "<g class=\"displacy-arrow\">\n",
       "    <path class=\"displacy-arc\" id=\"arrow-463539190f334e8da51156dc1535ac62-0-0\" stroke-width=\"2px\" d=\"M245,89.5 C245,2.0 575.0,2.0 575.0,89.5\" fill=\"none\" stroke=\"currentColor\"/>\n",
       "    <text dy=\"1.25em\" style=\"font-size: 0.8em; letter-spacing: 1px\">\n",
       "        <textPath xlink:href=\"#arrow-463539190f334e8da51156dc1535ac62-0-0\" class=\"displacy-label\" startOffset=\"50%\" side=\"left\" fill=\"currentColor\" text-anchor=\"middle\">OTHER_EXPERIENCER</textPath>\n",
       "    </text>\n",
       "    <path class=\"displacy-arrowhead\" d=\"M575.0,91.5 L583.0,79.5 567.0,79.5\" fill=\"currentColor\"/>\n",
       "</g>\n",
       "</svg></span>"
      ],
      "text/plain": [
       "<IPython.core.display.HTML object>"
      ]
     },
     "metadata": {},
     "output_type": "display_data"
    }
   ],
   "source": [
    "visualize_dep(docs[1])"
   ]
  },
  {
   "cell_type": "code",
   "execution_count": 33,
   "metadata": {},
   "outputs": [
    {
     "name": "stderr",
     "output_type": "stream",
     "text": [
      "C:\\Users\\ChristopherMeaney\\anaconda3\\envs\\medspacy_demo\\lib\\site-packages\\spacy\\displacy\\__init__.py:65: DeprecationWarning: Importing display from IPython.core.display is deprecated since IPython 7.14, please import from IPython display\n",
      "  from IPython.core.display import display, HTML\n"
     ]
    },
    {
     "data": {
      "text/html": [
       "<span class=\"tex2jax_ignore\"><svg xmlns=\"http://www.w3.org/2000/svg\" xmlns:xlink=\"http://www.w3.org/1999/xlink\" xml:lang=\"en\" id=\"d34ab70dae594ef3861308eb9fb949a5-0\" class=\"displacy\" width=\"575\" height=\"224.5\" direction=\"ltr\" style=\"max-width: none; height: 224.5px; color: #000000; background: #ffffff; font-family: Arial; direction: ltr\">\n",
       "<text class=\"displacy-token\" fill=\"currentColor\" text-anchor=\"middle\" y=\"134.5\">\n",
       "    <tspan class=\"displacy-word\" fill=\"currentColor\" x=\"50\">I</tspan>\n",
       "    <tspan class=\"displacy-tag\" dy=\"2em\" fill=\"currentColor\" x=\"50\"></tspan>\n",
       "</text>\n",
       "\n",
       "<text class=\"displacy-token\" fill=\"currentColor\" text-anchor=\"middle\" y=\"134.5\">\n",
       "    <tspan class=\"displacy-word\" fill=\"currentColor\" x=\"225\">used to be</tspan>\n",
       "    <tspan class=\"displacy-tag\" dy=\"2em\" fill=\"currentColor\" x=\"225\"></tspan>\n",
       "</text>\n",
       "\n",
       "<text class=\"displacy-token\" fill=\"currentColor\" text-anchor=\"middle\" y=\"134.5\">\n",
       "    <tspan class=\"displacy-word\" fill=\"currentColor\" x=\"400\">homeless</tspan>\n",
       "    <tspan class=\"displacy-tag\" dy=\"2em\" fill=\"currentColor\" x=\"400\">HOMELESS</tspan>\n",
       "</text>\n",
       "\n",
       "<g class=\"displacy-arrow\">\n",
       "    <path class=\"displacy-arc\" id=\"arrow-d34ab70dae594ef3861308eb9fb949a5-0-0\" stroke-width=\"2px\" d=\"M245,89.5 C245,2.0 400.0,2.0 400.0,89.5\" fill=\"none\" stroke=\"currentColor\"/>\n",
       "    <text dy=\"1.25em\" style=\"font-size: 0.8em; letter-spacing: 1px\">\n",
       "        <textPath xlink:href=\"#arrow-d34ab70dae594ef3861308eb9fb949a5-0-0\" class=\"displacy-label\" startOffset=\"50%\" side=\"left\" fill=\"currentColor\" text-anchor=\"middle\">HISTORICAL_MENTION</textPath>\n",
       "    </text>\n",
       "    <path class=\"displacy-arrowhead\" d=\"M400.0,91.5 L408.0,79.5 392.0,79.5\" fill=\"currentColor\"/>\n",
       "</g>\n",
       "</svg></span>"
      ],
      "text/plain": [
       "<IPython.core.display.HTML object>"
      ]
     },
     "metadata": {},
     "output_type": "display_data"
    }
   ],
   "source": [
    "visualize_dep(docs[2])"
   ]
  },
  {
   "cell_type": "code",
   "execution_count": 34,
   "metadata": {},
   "outputs": [
    {
     "name": "stderr",
     "output_type": "stream",
     "text": [
      "C:\\Users\\ChristopherMeaney\\anaconda3\\envs\\medspacy_demo\\lib\\site-packages\\spacy\\displacy\\__init__.py:65: DeprecationWarning: Importing display from IPython.core.display is deprecated since IPython 7.14, please import from IPython display\n",
      "  from IPython.core.display import display, HTML\n"
     ]
    },
    {
     "data": {
      "text/html": [
       "<span class=\"tex2jax_ignore\"><svg xmlns=\"http://www.w3.org/2000/svg\" xmlns:xlink=\"http://www.w3.org/1999/xlink\" xml:lang=\"en\" id=\"fc83f9c118704a408a91ce0a4fc4c30c-0\" class=\"displacy\" width=\"1100\" height=\"224.5\" direction=\"ltr\" style=\"max-width: none; height: 224.5px; color: #000000; background: #ffffff; font-family: Arial; direction: ltr\">\n",
       "<text class=\"displacy-token\" fill=\"currentColor\" text-anchor=\"middle\" y=\"134.5\">\n",
       "    <tspan class=\"displacy-word\" fill=\"currentColor\" x=\"50\">I</tspan>\n",
       "    <tspan class=\"displacy-tag\" dy=\"2em\" fill=\"currentColor\" x=\"50\"></tspan>\n",
       "</text>\n",
       "\n",
       "<text class=\"displacy-token\" fill=\"currentColor\" text-anchor=\"middle\" y=\"134.5\">\n",
       "    <tspan class=\"displacy-word\" fill=\"currentColor\" x=\"225\">suspect</tspan>\n",
       "    <tspan class=\"displacy-tag\" dy=\"2em\" fill=\"currentColor\" x=\"225\"></tspan>\n",
       "</text>\n",
       "\n",
       "<text class=\"displacy-token\" fill=\"currentColor\" text-anchor=\"middle\" y=\"134.5\">\n",
       "    <tspan class=\"displacy-word\" fill=\"currentColor\" x=\"400\">the</tspan>\n",
       "    <tspan class=\"displacy-tag\" dy=\"2em\" fill=\"currentColor\" x=\"400\"></tspan>\n",
       "</text>\n",
       "\n",
       "<text class=\"displacy-token\" fill=\"currentColor\" text-anchor=\"middle\" y=\"134.5\">\n",
       "    <tspan class=\"displacy-word\" fill=\"currentColor\" x=\"575\">patient</tspan>\n",
       "    <tspan class=\"displacy-tag\" dy=\"2em\" fill=\"currentColor\" x=\"575\"></tspan>\n",
       "</text>\n",
       "\n",
       "<text class=\"displacy-token\" fill=\"currentColor\" text-anchor=\"middle\" y=\"134.5\">\n",
       "    <tspan class=\"displacy-word\" fill=\"currentColor\" x=\"750\">is</tspan>\n",
       "    <tspan class=\"displacy-tag\" dy=\"2em\" fill=\"currentColor\" x=\"750\"></tspan>\n",
       "</text>\n",
       "\n",
       "<text class=\"displacy-token\" fill=\"currentColor\" text-anchor=\"middle\" y=\"134.5\">\n",
       "    <tspan class=\"displacy-word\" fill=\"currentColor\" x=\"925\">homeless</tspan>\n",
       "    <tspan class=\"displacy-tag\" dy=\"2em\" fill=\"currentColor\" x=\"925\">HOMELESS</tspan>\n",
       "</text>\n",
       "\n",
       "<g class=\"displacy-arrow\">\n",
       "    <path class=\"displacy-arc\" id=\"arrow-fc83f9c118704a408a91ce0a4fc4c30c-0-0\" stroke-width=\"2px\" d=\"M245,89.5 C245,2.0 925.0,2.0 925.0,89.5\" fill=\"none\" stroke=\"currentColor\"/>\n",
       "    <text dy=\"1.25em\" style=\"font-size: 0.8em; letter-spacing: 1px\">\n",
       "        <textPath xlink:href=\"#arrow-fc83f9c118704a408a91ce0a4fc4c30c-0-0\" class=\"displacy-label\" startOffset=\"50%\" side=\"left\" fill=\"currentColor\" text-anchor=\"middle\">HYPOTHETICAL MENTION</textPath>\n",
       "    </text>\n",
       "    <path class=\"displacy-arrowhead\" d=\"M925.0,91.5 L933.0,79.5 917.0,79.5\" fill=\"currentColor\"/>\n",
       "</g>\n",
       "</svg></span>"
      ],
      "text/plain": [
       "<IPython.core.display.HTML object>"
      ]
     },
     "metadata": {},
     "output_type": "display_data"
    }
   ],
   "source": [
    "visualize_dep(docs[3])"
   ]
  },
  {
   "cell_type": "code",
   "execution_count": 35,
   "metadata": {},
   "outputs": [
    {
     "name": "stderr",
     "output_type": "stream",
     "text": [
      "C:\\Users\\ChristopherMeaney\\anaconda3\\envs\\medspacy_demo\\lib\\site-packages\\spacy\\displacy\\__init__.py:65: DeprecationWarning: Importing display from IPython.core.display is deprecated since IPython 7.14, please import from IPython display\n",
      "  from IPython.core.display import display, HTML\n"
     ]
    },
    {
     "data": {
      "text/html": [
       "<span class=\"tex2jax_ignore\"><svg xmlns=\"http://www.w3.org/2000/svg\" xmlns:xlink=\"http://www.w3.org/1999/xlink\" xml:lang=\"en\" id=\"baef403720f94df3be26cf974aac6eb1-0\" class=\"displacy\" width=\"925\" height=\"224.5\" direction=\"ltr\" style=\"max-width: none; height: 224.5px; color: #000000; background: #ffffff; font-family: Arial; direction: ltr\">\n",
       "<text class=\"displacy-token\" fill=\"currentColor\" text-anchor=\"middle\" y=\"134.5\">\n",
       "    <tspan class=\"displacy-word\" fill=\"currentColor\" x=\"50\">the</tspan>\n",
       "    <tspan class=\"displacy-tag\" dy=\"2em\" fill=\"currentColor\" x=\"50\"></tspan>\n",
       "</text>\n",
       "\n",
       "<text class=\"displacy-token\" fill=\"currentColor\" text-anchor=\"middle\" y=\"134.5\">\n",
       "    <tspan class=\"displacy-word\" fill=\"currentColor\" x=\"225\">patient</tspan>\n",
       "    <tspan class=\"displacy-tag\" dy=\"2em\" fill=\"currentColor\" x=\"225\"></tspan>\n",
       "</text>\n",
       "\n",
       "<text class=\"displacy-token\" fill=\"currentColor\" text-anchor=\"middle\" y=\"134.5\">\n",
       "    <tspan class=\"displacy-word\" fill=\"currentColor\" x=\"400\">is</tspan>\n",
       "    <tspan class=\"displacy-tag\" dy=\"2em\" fill=\"currentColor\" x=\"400\"></tspan>\n",
       "</text>\n",
       "\n",
       "<text class=\"displacy-token\" fill=\"currentColor\" text-anchor=\"middle\" y=\"134.5\">\n",
       "    <tspan class=\"displacy-word\" fill=\"currentColor\" x=\"575\">not</tspan>\n",
       "    <tspan class=\"displacy-tag\" dy=\"2em\" fill=\"currentColor\" x=\"575\"></tspan>\n",
       "</text>\n",
       "\n",
       "<text class=\"displacy-token\" fill=\"currentColor\" text-anchor=\"middle\" y=\"134.5\">\n",
       "    <tspan class=\"displacy-word\" fill=\"currentColor\" x=\"750\">homeless</tspan>\n",
       "    <tspan class=\"displacy-tag\" dy=\"2em\" fill=\"currentColor\" x=\"750\">HOMELESS</tspan>\n",
       "</text>\n",
       "\n",
       "<g class=\"displacy-arrow\">\n",
       "    <path class=\"displacy-arc\" id=\"arrow-baef403720f94df3be26cf974aac6eb1-0-0\" stroke-width=\"2px\" d=\"M595,89.5 C595,2.0 750.0,2.0 750.0,89.5\" fill=\"none\" stroke=\"currentColor\"/>\n",
       "    <text dy=\"1.25em\" style=\"font-size: 0.8em; letter-spacing: 1px\">\n",
       "        <textPath xlink:href=\"#arrow-baef403720f94df3be26cf974aac6eb1-0-0\" class=\"displacy-label\" startOffset=\"50%\" side=\"left\" fill=\"currentColor\" text-anchor=\"middle\">NEGATED_EXISTENCE</textPath>\n",
       "    </text>\n",
       "    <path class=\"displacy-arrowhead\" d=\"M750.0,91.5 L758.0,79.5 742.0,79.5\" fill=\"currentColor\"/>\n",
       "</g>\n",
       "</svg></span>"
      ],
      "text/plain": [
       "<IPython.core.display.HTML object>"
      ]
     },
     "metadata": {},
     "output_type": "display_data"
    }
   ],
   "source": [
    "visualize_dep(docs[4])"
   ]
  },
  {
   "cell_type": "code",
   "execution_count": null,
   "metadata": {},
   "outputs": [],
   "source": []
  },
  {
   "cell_type": "code",
   "execution_count": null,
   "metadata": {},
   "outputs": [],
   "source": []
  },
  {
   "cell_type": "code",
   "execution_count": 36,
   "metadata": {},
   "outputs": [],
   "source": [
    "#########################################\n",
    "## Investigate \"context graph\" attributes associated with each medspacy processed document\n",
    "##\n",
    "## We can use this information to make \"context informed\" document level classifications about homelessness/housing\n",
    "##\n",
    "## If context_modifier=NONE and homeless_tag=TRUE:\n",
    "##     then homeless\n",
    "## Else\n",
    "##     not homeless\n",
    "##\n",
    "#########################################"
   ]
  },
  {
   "cell_type": "code",
   "execution_count": 37,
   "metadata": {},
   "outputs": [
    {
     "name": "stdout",
     "output_type": "stream",
     "text": [
      "the patient is homeless\n",
      "<ConTextGraph> with 1 targets and 0 modifiers\n",
      "[]\n",
      "[]\n",
      "(homeless,)\n",
      "\n",
      "\n",
      "my brother is homeless\n",
      "<ConTextGraph> with 1 targets and 1 modifiers\n",
      "[<ConTextModifier> [brother, OTHER_EXPERIENCER]]\n",
      "[(homeless, <ConTextModifier> [brother, OTHER_EXPERIENCER])]\n",
      "(homeless,)\n",
      "\n",
      "\n",
      "I used to be homeless\n",
      "<ConTextGraph> with 1 targets and 1 modifiers\n",
      "[<ConTextModifier> [used to be, HISTORICAL_MENTION]]\n",
      "[(homeless, <ConTextModifier> [used to be, HISTORICAL_MENTION])]\n",
      "(homeless,)\n",
      "\n",
      "\n",
      "I suspect the patient is homeless\n",
      "<ConTextGraph> with 1 targets and 1 modifiers\n",
      "[<ConTextModifier> [suspect, HYPOTHETICAL MENTION]]\n",
      "[(homeless, <ConTextModifier> [suspect, HYPOTHETICAL MENTION])]\n",
      "(homeless,)\n",
      "\n",
      "\n",
      "the patient is not homeless\n",
      "<ConTextGraph> with 1 targets and 1 modifiers\n",
      "[<ConTextModifier> [not, NEGATED_EXISTENCE]]\n",
      "[(homeless, <ConTextModifier> [not, NEGATED_EXISTENCE])]\n",
      "(homeless,)\n",
      "\n",
      "\n"
     ]
    }
   ],
   "source": [
    "for doc in docs:\n",
    "    print(doc)\n",
    "    print(doc._.context_graph)\n",
    "    print(doc._.context_graph.modifiers)\n",
    "    print(doc._.context_graph.edges)\n",
    "    print(doc.ents)\n",
    "    print(\"\\n\")"
   ]
  },
  {
   "cell_type": "code",
   "execution_count": null,
   "metadata": {},
   "outputs": [],
   "source": []
  },
  {
   "cell_type": "code",
   "execution_count": 38,
   "metadata": {},
   "outputs": [
    {
     "name": "stdout",
     "output_type": "stream",
     "text": [
      "the patient is homeless\n",
      "\thomeless\n",
      "my brother is homeless\n",
      "\thomeless\n",
      "\t\t<ConTextModifier> [brother, FAMILY]\n",
      "\t\t<ConTextModifier> [brother, OTHER_EXPERIENCER]\n",
      "I used to be homeless\n",
      "\thomeless\n",
      "\t\t<ConTextModifier> [used to be, HISTORICAL_MENTION]\n",
      "I suspect the patient is homeless\n",
      "\thomeless\n",
      "\t\t<ConTextModifier> [suspect, HYPOTHETICAL MENTION]\n",
      "the patient is not homeless\n",
      "\thomeless\n",
      "\t\t<ConTextModifier> [patient is not, NEGATED_EXISTENCE]\n",
      "\t\t<ConTextModifier> [not, NEGATED_EXISTENCE]\n"
     ]
    }
   ],
   "source": [
    "for doc in docs:\n",
    "    print(doc)\n",
    "    for ent in doc.ents:\n",
    "        print(\"\\t\"+str(ent))\n",
    "        for mod in ent._.modifiers:\n",
    "            print(\"\\t\\t\"+str(mod))"
   ]
  },
  {
   "cell_type": "code",
   "execution_count": null,
   "metadata": {},
   "outputs": [],
   "source": []
  },
  {
   "cell_type": "code",
   "execution_count": null,
   "metadata": {},
   "outputs": [],
   "source": []
  },
  {
   "cell_type": "code",
   "execution_count": 39,
   "metadata": {},
   "outputs": [],
   "source": [
    "#####################\n",
    "## Document level classification function\n",
    "#####################"
   ]
  },
  {
   "cell_type": "code",
   "execution_count": 40,
   "metadata": {},
   "outputs": [],
   "source": [
    "##\n",
    "## This is a bit of a hack...likely need to consider better logic around context modifiers, but this seems to work for now.\n",
    "##\n",
    "def doc_level_homeless(docs):\n",
    "    out = []\n",
    "    for doc in docs:\n",
    "        if \"homeless\" not in str(doc.ents):\n",
    "            out.append(False)\n",
    "        elif \"homeless\" in str(doc.ents) and doc._.context_graph.edges != []:\n",
    "            out.append(False)\n",
    "        elif \"homeless\" in str(doc.ents) and doc._.context_graph.edges == []:\n",
    "            out.append(True)\n",
    "    return(out)\n"
   ]
  },
  {
   "cell_type": "code",
   "execution_count": 41,
   "metadata": {},
   "outputs": [
    {
     "data": {
      "text/plain": [
       "[True, False, False, False, False]"
      ]
     },
     "execution_count": 41,
     "metadata": {},
     "output_type": "execute_result"
    }
   ],
   "source": [
    "## Apply UDF over medspacy processed document collection\n",
    "doc_level_homeless(docs=docs)"
   ]
  },
  {
   "cell_type": "code",
   "execution_count": 42,
   "metadata": {},
   "outputs": [
    {
     "data": {
      "text/plain": [
       "['the patient is homeless',\n",
       " 'my brother is homeless',\n",
       " 'I used to be homeless',\n",
       " 'I suspect the patient is homeless',\n",
       " 'the patient is not homeless']"
      ]
     },
     "execution_count": 42,
     "metadata": {},
     "output_type": "execute_result"
    }
   ],
   "source": [
    "texts"
   ]
  },
  {
   "cell_type": "code",
   "execution_count": null,
   "metadata": {},
   "outputs": [],
   "source": []
  },
  {
   "cell_type": "code",
   "execution_count": null,
   "metadata": {},
   "outputs": [],
   "source": []
  }
 ],
 "metadata": {
  "kernelspec": {
   "display_name": "Python 3 (ipykernel)",
   "language": "python",
   "name": "python3"
  },
  "language_info": {
   "codemirror_mode": {
    "name": "ipython",
    "version": 3
   },
   "file_extension": ".py",
   "mimetype": "text/x-python",
   "name": "python",
   "nbconvert_exporter": "python",
   "pygments_lexer": "ipython3",
   "version": "3.8.0"
  }
 },
 "nbformat": 4,
 "nbformat_minor": 4
}
