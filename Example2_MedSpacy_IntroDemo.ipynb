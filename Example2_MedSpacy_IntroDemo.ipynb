{
 "cells": [
  {
   "cell_type": "code",
   "execution_count": 1,
   "id": "dc33817b",
   "metadata": {},
   "outputs": [],
   "source": [
    "#############################################\n",
    "## Purpose to demo medspacy and related functionality\n",
    "## Author: Christopher Meaney\n",
    "## Date: July 2021\n",
    "#############################################"
   ]
  },
  {
   "cell_type": "code",
   "execution_count": 2,
   "id": "bcb33b28",
   "metadata": {},
   "outputs": [],
   "source": [
    "## Module dependencies\n",
    "\n",
    "## Data wrangling\n",
    "import pandas as pd\n",
    "\n",
    "## Numerics\n",
    "import numpy as np\n",
    "\n",
    "## System specification (for replication)\n",
    "from sinfo import sinfo"
   ]
  },
  {
   "cell_type": "code",
   "execution_count": 3,
   "id": "7d0b456f",
   "metadata": {},
   "outputs": [],
   "source": [
    "## Various NLP tools\n",
    "import spacy\n",
    "import medspacy"
   ]
  },
  {
   "cell_type": "code",
   "execution_count": 4,
   "id": "4305f538",
   "metadata": {},
   "outputs": [],
   "source": [
    "## To suppress warnings\n",
    "import warnings\n",
    "warnings.filterwarnings('ignore')"
   ]
  },
  {
   "cell_type": "code",
   "execution_count": 5,
   "id": "8e3a8763",
   "metadata": {},
   "outputs": [
    {
     "name": "stderr",
     "output_type": "stream",
     "text": [
      "C:\\Users\\ChristopherMeaney\\anaconda3\\envs\\pyenv_usva_covid\\lib\\site-packages\\catalogue.py:138: DeprecationWarning: SelectableGroups dict interface is deprecated. Use select.\n",
      "  for entry_point in AVAILABLE_ENTRY_POINTS.get(self.entry_point_namespace, []):\n",
      "C:\\Users\\ChristopherMeaney\\anaconda3\\envs\\pyenv_usva_covid\\lib\\site-packages\\catalogue.py:138: DeprecationWarning: SelectableGroups dict interface is deprecated. Use select.\n",
      "  for entry_point in AVAILABLE_ENTRY_POINTS.get(self.entry_point_namespace, []):\n",
      "C:\\Users\\ChristopherMeaney\\anaconda3\\envs\\pyenv_usva_covid\\lib\\site-packages\\catalogue.py:138: DeprecationWarning: SelectableGroups dict interface is deprecated. Use select.\n",
      "  for entry_point in AVAILABLE_ENTRY_POINTS.get(self.entry_point_namespace, []):\n",
      "C:\\Users\\ChristopherMeaney\\anaconda3\\envs\\pyenv_usva_covid\\lib\\site-packages\\catalogue.py:138: DeprecationWarning: SelectableGroups dict interface is deprecated. Use select.\n",
      "  for entry_point in AVAILABLE_ENTRY_POINTS.get(self.entry_point_namespace, []):\n",
      "C:\\Users\\ChristopherMeaney\\anaconda3\\envs\\pyenv_usva_covid\\lib\\site-packages\\catalogue.py:138: DeprecationWarning: SelectableGroups dict interface is deprecated. Use select.\n",
      "  for entry_point in AVAILABLE_ENTRY_POINTS.get(self.entry_point_namespace, []):\n",
      "C:\\Users\\ChristopherMeaney\\anaconda3\\envs\\pyenv_usva_covid\\lib\\site-packages\\catalogue.py:138: DeprecationWarning: SelectableGroups dict interface is deprecated. Use select.\n",
      "  for entry_point in AVAILABLE_ENTRY_POINTS.get(self.entry_point_namespace, []):\n",
      "C:\\Users\\ChristopherMeaney\\anaconda3\\envs\\pyenv_usva_covid\\lib\\site-packages\\catalogue.py:138: DeprecationWarning: SelectableGroups dict interface is deprecated. Use select.\n",
      "  for entry_point in AVAILABLE_ENTRY_POINTS.get(self.entry_point_namespace, []):\n",
      "C:\\Users\\ChristopherMeaney\\anaconda3\\envs\\pyenv_usva_covid\\lib\\site-packages\\catalogue.py:138: DeprecationWarning: SelectableGroups dict interface is deprecated. Use select.\n",
      "  for entry_point in AVAILABLE_ENTRY_POINTS.get(self.entry_point_namespace, []):\n",
      "C:\\Users\\ChristopherMeaney\\anaconda3\\envs\\pyenv_usva_covid\\lib\\site-packages\\catalogue.py:138: DeprecationWarning: SelectableGroups dict interface is deprecated. Use select.\n",
      "  for entry_point in AVAILABLE_ENTRY_POINTS.get(self.entry_point_namespace, []):\n",
      "C:\\Users\\ChristopherMeaney\\anaconda3\\envs\\pyenv_usva_covid\\lib\\site-packages\\catalogue.py:138: DeprecationWarning: SelectableGroups dict interface is deprecated. Use select.\n",
      "  for entry_point in AVAILABLE_ENTRY_POINTS.get(self.entry_point_namespace, []):\n",
      "C:\\Users\\ChristopherMeaney\\anaconda3\\envs\\pyenv_usva_covid\\lib\\site-packages\\catalogue.py:138: DeprecationWarning: SelectableGroups dict interface is deprecated. Use select.\n",
      "  for entry_point in AVAILABLE_ENTRY_POINTS.get(self.entry_point_namespace, []):\n",
      "C:\\Users\\ChristopherMeaney\\anaconda3\\envs\\pyenv_usva_covid\\lib\\site-packages\\catalogue.py:138: DeprecationWarning: SelectableGroups dict interface is deprecated. Use select.\n",
      "  for entry_point in AVAILABLE_ENTRY_POINTS.get(self.entry_point_namespace, []):\n",
      "C:\\Users\\ChristopherMeaney\\anaconda3\\envs\\pyenv_usva_covid\\lib\\site-packages\\catalogue.py:138: DeprecationWarning: SelectableGroups dict interface is deprecated. Use select.\n",
      "  for entry_point in AVAILABLE_ENTRY_POINTS.get(self.entry_point_namespace, []):\n",
      "C:\\Users\\ChristopherMeaney\\anaconda3\\envs\\pyenv_usva_covid\\lib\\site-packages\\catalogue.py:138: DeprecationWarning: SelectableGroups dict interface is deprecated. Use select.\n",
      "  for entry_point in AVAILABLE_ENTRY_POINTS.get(self.entry_point_namespace, []):\n",
      "C:\\Users\\ChristopherMeaney\\anaconda3\\envs\\pyenv_usva_covid\\lib\\site-packages\\catalogue.py:138: DeprecationWarning: SelectableGroups dict interface is deprecated. Use select.\n",
      "  for entry_point in AVAILABLE_ENTRY_POINTS.get(self.entry_point_namespace, []):\n",
      "C:\\Users\\ChristopherMeaney\\anaconda3\\envs\\pyenv_usva_covid\\lib\\site-packages\\catalogue.py:138: DeprecationWarning: SelectableGroups dict interface is deprecated. Use select.\n",
      "  for entry_point in AVAILABLE_ENTRY_POINTS.get(self.entry_point_namespace, []):\n",
      "C:\\Users\\ChristopherMeaney\\anaconda3\\envs\\pyenv_usva_covid\\lib\\site-packages\\catalogue.py:138: DeprecationWarning: SelectableGroups dict interface is deprecated. Use select.\n",
      "  for entry_point in AVAILABLE_ENTRY_POINTS.get(self.entry_point_namespace, []):\n",
      "C:\\Users\\ChristopherMeaney\\anaconda3\\envs\\pyenv_usva_covid\\lib\\site-packages\\catalogue.py:138: DeprecationWarning: SelectableGroups dict interface is deprecated. Use select.\n",
      "  for entry_point in AVAILABLE_ENTRY_POINTS.get(self.entry_point_namespace, []):\n",
      "C:\\Users\\ChristopherMeaney\\anaconda3\\envs\\pyenv_usva_covid\\lib\\site-packages\\catalogue.py:138: DeprecationWarning: SelectableGroups dict interface is deprecated. Use select.\n",
      "  for entry_point in AVAILABLE_ENTRY_POINTS.get(self.entry_point_namespace, []):\n",
      "C:\\Users\\ChristopherMeaney\\anaconda3\\envs\\pyenv_usva_covid\\lib\\site-packages\\catalogue.py:138: DeprecationWarning: SelectableGroups dict interface is deprecated. Use select.\n",
      "  for entry_point in AVAILABLE_ENTRY_POINTS.get(self.entry_point_namespace, []):\n",
      "C:\\Users\\ChristopherMeaney\\anaconda3\\envs\\pyenv_usva_covid\\lib\\site-packages\\catalogue.py:138: DeprecationWarning: SelectableGroups dict interface is deprecated. Use select.\n",
      "  for entry_point in AVAILABLE_ENTRY_POINTS.get(self.entry_point_namespace, []):\n",
      "C:\\Users\\ChristopherMeaney\\anaconda3\\envs\\pyenv_usva_covid\\lib\\site-packages\\catalogue.py:138: DeprecationWarning: SelectableGroups dict interface is deprecated. Use select.\n",
      "  for entry_point in AVAILABLE_ENTRY_POINTS.get(self.entry_point_namespace, []):\n",
      "C:\\Users\\ChristopherMeaney\\anaconda3\\envs\\pyenv_usva_covid\\lib\\site-packages\\catalogue.py:138: DeprecationWarning: SelectableGroups dict interface is deprecated. Use select.\n",
      "  for entry_point in AVAILABLE_ENTRY_POINTS.get(self.entry_point_namespace, []):\n",
      "C:\\Users\\ChristopherMeaney\\anaconda3\\envs\\pyenv_usva_covid\\lib\\site-packages\\catalogue.py:138: DeprecationWarning: SelectableGroups dict interface is deprecated. Use select.\n",
      "  for entry_point in AVAILABLE_ENTRY_POINTS.get(self.entry_point_namespace, []):\n",
      "C:\\Users\\ChristopherMeaney\\anaconda3\\envs\\pyenv_usva_covid\\lib\\site-packages\\catalogue.py:138: DeprecationWarning: SelectableGroups dict interface is deprecated. Use select.\n",
      "  for entry_point in AVAILABLE_ENTRY_POINTS.get(self.entry_point_namespace, []):\n",
      "C:\\Users\\ChristopherMeaney\\anaconda3\\envs\\pyenv_usva_covid\\lib\\site-packages\\catalogue.py:138: DeprecationWarning: SelectableGroups dict interface is deprecated. Use select.\n",
      "  for entry_point in AVAILABLE_ENTRY_POINTS.get(self.entry_point_namespace, []):\n",
      "C:\\Users\\ChristopherMeaney\\anaconda3\\envs\\pyenv_usva_covid\\lib\\site-packages\\catalogue.py:138: DeprecationWarning: SelectableGroups dict interface is deprecated. Use select.\n",
      "  for entry_point in AVAILABLE_ENTRY_POINTS.get(self.entry_point_namespace, []):\n",
      "C:\\Users\\ChristopherMeaney\\anaconda3\\envs\\pyenv_usva_covid\\lib\\site-packages\\catalogue.py:138: DeprecationWarning: SelectableGroups dict interface is deprecated. Use select.\n",
      "  for entry_point in AVAILABLE_ENTRY_POINTS.get(self.entry_point_namespace, []):\n",
      "C:\\Users\\ChristopherMeaney\\anaconda3\\envs\\pyenv_usva_covid\\lib\\site-packages\\catalogue.py:138: DeprecationWarning: SelectableGroups dict interface is deprecated. Use select.\n",
      "  for entry_point in AVAILABLE_ENTRY_POINTS.get(self.entry_point_namespace, []):\n",
      "C:\\Users\\ChristopherMeaney\\anaconda3\\envs\\pyenv_usva_covid\\lib\\site-packages\\catalogue.py:138: DeprecationWarning: SelectableGroups dict interface is deprecated. Use select.\n",
      "  for entry_point in AVAILABLE_ENTRY_POINTS.get(self.entry_point_namespace, []):\n",
      "C:\\Users\\ChristopherMeaney\\anaconda3\\envs\\pyenv_usva_covid\\lib\\site-packages\\catalogue.py:138: DeprecationWarning: SelectableGroups dict interface is deprecated. Use select.\n",
      "  for entry_point in AVAILABLE_ENTRY_POINTS.get(self.entry_point_namespace, []):\n",
      "C:\\Users\\ChristopherMeaney\\anaconda3\\envs\\pyenv_usva_covid\\lib\\site-packages\\catalogue.py:138: DeprecationWarning: SelectableGroups dict interface is deprecated. Use select.\n",
      "  for entry_point in AVAILABLE_ENTRY_POINTS.get(self.entry_point_namespace, []):\n",
      "C:\\Users\\ChristopherMeaney\\anaconda3\\envs\\pyenv_usva_covid\\lib\\site-packages\\catalogue.py:138: DeprecationWarning: SelectableGroups dict interface is deprecated. Use select.\n",
      "  for entry_point in AVAILABLE_ENTRY_POINTS.get(self.entry_point_namespace, []):\n",
      "C:\\Users\\ChristopherMeaney\\anaconda3\\envs\\pyenv_usva_covid\\lib\\site-packages\\catalogue.py:138: DeprecationWarning: SelectableGroups dict interface is deprecated. Use select.\n",
      "  for entry_point in AVAILABLE_ENTRY_POINTS.get(self.entry_point_namespace, []):\n",
      "C:\\Users\\ChristopherMeaney\\anaconda3\\envs\\pyenv_usva_covid\\lib\\site-packages\\catalogue.py:138: DeprecationWarning: SelectableGroups dict interface is deprecated. Use select.\n",
      "  for entry_point in AVAILABLE_ENTRY_POINTS.get(self.entry_point_namespace, []):\n",
      "C:\\Users\\ChristopherMeaney\\anaconda3\\envs\\pyenv_usva_covid\\lib\\site-packages\\catalogue.py:138: DeprecationWarning: SelectableGroups dict interface is deprecated. Use select.\n",
      "  for entry_point in AVAILABLE_ENTRY_POINTS.get(self.entry_point_namespace, []):\n",
      "C:\\Users\\ChristopherMeaney\\anaconda3\\envs\\pyenv_usva_covid\\lib\\site-packages\\catalogue.py:138: DeprecationWarning: SelectableGroups dict interface is deprecated. Use select.\n",
      "  for entry_point in AVAILABLE_ENTRY_POINTS.get(self.entry_point_namespace, []):\n",
      "C:\\Users\\ChristopherMeaney\\anaconda3\\envs\\pyenv_usva_covid\\lib\\site-packages\\catalogue.py:138: DeprecationWarning: SelectableGroups dict interface is deprecated. Use select.\n",
      "  for entry_point in AVAILABLE_ENTRY_POINTS.get(self.entry_point_namespace, []):\n",
      "C:\\Users\\ChristopherMeaney\\anaconda3\\envs\\pyenv_usva_covid\\lib\\site-packages\\catalogue.py:138: DeprecationWarning: SelectableGroups dict interface is deprecated. Use select.\n",
      "  for entry_point in AVAILABLE_ENTRY_POINTS.get(self.entry_point_namespace, []):\n",
      "C:\\Users\\ChristopherMeaney\\anaconda3\\envs\\pyenv_usva_covid\\lib\\site-packages\\catalogue.py:138: DeprecationWarning: SelectableGroups dict interface is deprecated. Use select.\n",
      "  for entry_point in AVAILABLE_ENTRY_POINTS.get(self.entry_point_namespace, []):\n",
      "C:\\Users\\ChristopherMeaney\\anaconda3\\envs\\pyenv_usva_covid\\lib\\site-packages\\catalogue.py:138: DeprecationWarning: SelectableGroups dict interface is deprecated. Use select.\n",
      "  for entry_point in AVAILABLE_ENTRY_POINTS.get(self.entry_point_namespace, []):\n",
      "C:\\Users\\ChristopherMeaney\\anaconda3\\envs\\pyenv_usva_covid\\lib\\site-packages\\catalogue.py:138: DeprecationWarning: SelectableGroups dict interface is deprecated. Use select.\n",
      "  for entry_point in AVAILABLE_ENTRY_POINTS.get(self.entry_point_namespace, []):\n",
      "C:\\Users\\ChristopherMeaney\\anaconda3\\envs\\pyenv_usva_covid\\lib\\site-packages\\catalogue.py:138: DeprecationWarning: SelectableGroups dict interface is deprecated. Use select.\n",
      "  for entry_point in AVAILABLE_ENTRY_POINTS.get(self.entry_point_namespace, []):\n",
      "C:\\Users\\ChristopherMeaney\\anaconda3\\envs\\pyenv_usva_covid\\lib\\site-packages\\catalogue.py:138: DeprecationWarning: SelectableGroups dict interface is deprecated. Use select.\n",
      "  for entry_point in AVAILABLE_ENTRY_POINTS.get(self.entry_point_namespace, []):\n",
      "C:\\Users\\ChristopherMeaney\\anaconda3\\envs\\pyenv_usva_covid\\lib\\site-packages\\catalogue.py:138: DeprecationWarning: SelectableGroups dict interface is deprecated. Use select.\n",
      "  for entry_point in AVAILABLE_ENTRY_POINTS.get(self.entry_point_namespace, []):\n",
      "C:\\Users\\ChristopherMeaney\\anaconda3\\envs\\pyenv_usva_covid\\lib\\site-packages\\catalogue.py:138: DeprecationWarning: SelectableGroups dict interface is deprecated. Use select.\n",
      "  for entry_point in AVAILABLE_ENTRY_POINTS.get(self.entry_point_namespace, []):\n",
      "C:\\Users\\ChristopherMeaney\\anaconda3\\envs\\pyenv_usva_covid\\lib\\site-packages\\catalogue.py:138: DeprecationWarning: SelectableGroups dict interface is deprecated. Use select.\n",
      "  for entry_point in AVAILABLE_ENTRY_POINTS.get(self.entry_point_namespace, []):\n",
      "C:\\Users\\ChristopherMeaney\\anaconda3\\envs\\pyenv_usva_covid\\lib\\site-packages\\catalogue.py:138: DeprecationWarning: SelectableGroups dict interface is deprecated. Use select.\n",
      "  for entry_point in AVAILABLE_ENTRY_POINTS.get(self.entry_point_namespace, []):\n",
      "C:\\Users\\ChristopherMeaney\\anaconda3\\envs\\pyenv_usva_covid\\lib\\site-packages\\catalogue.py:138: DeprecationWarning: SelectableGroups dict interface is deprecated. Use select.\n",
      "  for entry_point in AVAILABLE_ENTRY_POINTS.get(self.entry_point_namespace, []):\n",
      "C:\\Users\\ChristopherMeaney\\anaconda3\\envs\\pyenv_usva_covid\\lib\\site-packages\\catalogue.py:138: DeprecationWarning: SelectableGroups dict interface is deprecated. Use select.\n",
      "  for entry_point in AVAILABLE_ENTRY_POINTS.get(self.entry_point_namespace, []):\n",
      "C:\\Users\\ChristopherMeaney\\anaconda3\\envs\\pyenv_usva_covid\\lib\\site-packages\\catalogue.py:138: DeprecationWarning: SelectableGroups dict interface is deprecated. Use select.\n",
      "  for entry_point in AVAILABLE_ENTRY_POINTS.get(self.entry_point_namespace, []):\n",
      "C:\\Users\\ChristopherMeaney\\anaconda3\\envs\\pyenv_usva_covid\\lib\\site-packages\\catalogue.py:138: DeprecationWarning: SelectableGroups dict interface is deprecated. Use select.\n",
      "  for entry_point in AVAILABLE_ENTRY_POINTS.get(self.entry_point_namespace, []):\n",
      "C:\\Users\\ChristopherMeaney\\anaconda3\\envs\\pyenv_usva_covid\\lib\\site-packages\\catalogue.py:138: DeprecationWarning: SelectableGroups dict interface is deprecated. Use select.\n",
      "  for entry_point in AVAILABLE_ENTRY_POINTS.get(self.entry_point_namespace, []):\n",
      "C:\\Users\\ChristopherMeaney\\anaconda3\\envs\\pyenv_usva_covid\\lib\\site-packages\\catalogue.py:138: DeprecationWarning: SelectableGroups dict interface is deprecated. Use select.\n",
      "  for entry_point in AVAILABLE_ENTRY_POINTS.get(self.entry_point_namespace, []):\n",
      "C:\\Users\\ChristopherMeaney\\anaconda3\\envs\\pyenv_usva_covid\\lib\\site-packages\\catalogue.py:138: DeprecationWarning: SelectableGroups dict interface is deprecated. Use select.\n",
      "  for entry_point in AVAILABLE_ENTRY_POINTS.get(self.entry_point_namespace, []):\n",
      "C:\\Users\\ChristopherMeaney\\anaconda3\\envs\\pyenv_usva_covid\\lib\\site-packages\\catalogue.py:138: DeprecationWarning: SelectableGroups dict interface is deprecated. Use select.\n",
      "  for entry_point in AVAILABLE_ENTRY_POINTS.get(self.entry_point_namespace, []):\n",
      "C:\\Users\\ChristopherMeaney\\anaconda3\\envs\\pyenv_usva_covid\\lib\\site-packages\\catalogue.py:138: DeprecationWarning: SelectableGroups dict interface is deprecated. Use select.\n",
      "  for entry_point in AVAILABLE_ENTRY_POINTS.get(self.entry_point_namespace, []):\n",
      "C:\\Users\\ChristopherMeaney\\anaconda3\\envs\\pyenv_usva_covid\\lib\\site-packages\\catalogue.py:138: DeprecationWarning: SelectableGroups dict interface is deprecated. Use select.\n",
      "  for entry_point in AVAILABLE_ENTRY_POINTS.get(self.entry_point_namespace, []):\n",
      "C:\\Users\\ChristopherMeaney\\anaconda3\\envs\\pyenv_usva_covid\\lib\\site-packages\\catalogue.py:138: DeprecationWarning: SelectableGroups dict interface is deprecated. Use select.\n",
      "  for entry_point in AVAILABLE_ENTRY_POINTS.get(self.entry_point_namespace, []):\n",
      "C:\\Users\\ChristopherMeaney\\anaconda3\\envs\\pyenv_usva_covid\\lib\\site-packages\\catalogue.py:138: DeprecationWarning: SelectableGroups dict interface is deprecated. Use select.\n",
      "  for entry_point in AVAILABLE_ENTRY_POINTS.get(self.entry_point_namespace, []):\n",
      "C:\\Users\\ChristopherMeaney\\anaconda3\\envs\\pyenv_usva_covid\\lib\\site-packages\\catalogue.py:138: DeprecationWarning: SelectableGroups dict interface is deprecated. Use select.\n",
      "  for entry_point in AVAILABLE_ENTRY_POINTS.get(self.entry_point_namespace, []):\n",
      "C:\\Users\\ChristopherMeaney\\anaconda3\\envs\\pyenv_usva_covid\\lib\\site-packages\\catalogue.py:138: DeprecationWarning: SelectableGroups dict interface is deprecated. Use select.\n",
      "  for entry_point in AVAILABLE_ENTRY_POINTS.get(self.entry_point_namespace, []):\n",
      "C:\\Users\\ChristopherMeaney\\anaconda3\\envs\\pyenv_usva_covid\\lib\\site-packages\\catalogue.py:138: DeprecationWarning: SelectableGroups dict interface is deprecated. Use select.\n",
      "  for entry_point in AVAILABLE_ENTRY_POINTS.get(self.entry_point_namespace, []):\n",
      "C:\\Users\\ChristopherMeaney\\anaconda3\\envs\\pyenv_usva_covid\\lib\\site-packages\\catalogue.py:138: DeprecationWarning: SelectableGroups dict interface is deprecated. Use select.\n",
      "  for entry_point in AVAILABLE_ENTRY_POINTS.get(self.entry_point_namespace, []):\n",
      "C:\\Users\\ChristopherMeaney\\anaconda3\\envs\\pyenv_usva_covid\\lib\\site-packages\\catalogue.py:138: DeprecationWarning: SelectableGroups dict interface is deprecated. Use select.\n",
      "  for entry_point in AVAILABLE_ENTRY_POINTS.get(self.entry_point_namespace, []):\n",
      "C:\\Users\\ChristopherMeaney\\anaconda3\\envs\\pyenv_usva_covid\\lib\\site-packages\\catalogue.py:138: DeprecationWarning: SelectableGroups dict interface is deprecated. Use select.\n",
      "  for entry_point in AVAILABLE_ENTRY_POINTS.get(self.entry_point_namespace, []):\n",
      "C:\\Users\\ChristopherMeaney\\anaconda3\\envs\\pyenv_usva_covid\\lib\\site-packages\\catalogue.py:138: DeprecationWarning: SelectableGroups dict interface is deprecated. Use select.\n",
      "  for entry_point in AVAILABLE_ENTRY_POINTS.get(self.entry_point_namespace, []):\n",
      "C:\\Users\\ChristopherMeaney\\anaconda3\\envs\\pyenv_usva_covid\\lib\\site-packages\\catalogue.py:138: DeprecationWarning: SelectableGroups dict interface is deprecated. Use select.\n",
      "  for entry_point in AVAILABLE_ENTRY_POINTS.get(self.entry_point_namespace, []):\n",
      "C:\\Users\\ChristopherMeaney\\anaconda3\\envs\\pyenv_usva_covid\\lib\\site-packages\\catalogue.py:138: DeprecationWarning: SelectableGroups dict interface is deprecated. Use select.\n",
      "  for entry_point in AVAILABLE_ENTRY_POINTS.get(self.entry_point_namespace, []):\n",
      "C:\\Users\\ChristopherMeaney\\anaconda3\\envs\\pyenv_usva_covid\\lib\\site-packages\\catalogue.py:138: DeprecationWarning: SelectableGroups dict interface is deprecated. Use select.\n",
      "  for entry_point in AVAILABLE_ENTRY_POINTS.get(self.entry_point_namespace, []):\n",
      "C:\\Users\\ChristopherMeaney\\anaconda3\\envs\\pyenv_usva_covid\\lib\\site-packages\\catalogue.py:138: DeprecationWarning: SelectableGroups dict interface is deprecated. Use select.\n",
      "  for entry_point in AVAILABLE_ENTRY_POINTS.get(self.entry_point_namespace, []):\n",
      "C:\\Users\\ChristopherMeaney\\anaconda3\\envs\\pyenv_usva_covid\\lib\\site-packages\\catalogue.py:138: DeprecationWarning: SelectableGroups dict interface is deprecated. Use select.\n",
      "  for entry_point in AVAILABLE_ENTRY_POINTS.get(self.entry_point_namespace, []):\n",
      "C:\\Users\\ChristopherMeaney\\anaconda3\\envs\\pyenv_usva_covid\\lib\\site-packages\\catalogue.py:138: DeprecationWarning: SelectableGroups dict interface is deprecated. Use select.\n",
      "  for entry_point in AVAILABLE_ENTRY_POINTS.get(self.entry_point_namespace, []):\n",
      "C:\\Users\\ChristopherMeaney\\anaconda3\\envs\\pyenv_usva_covid\\lib\\site-packages\\catalogue.py:138: DeprecationWarning: SelectableGroups dict interface is deprecated. Use select.\n",
      "  for entry_point in AVAILABLE_ENTRY_POINTS.get(self.entry_point_namespace, []):\n",
      "C:\\Users\\ChristopherMeaney\\anaconda3\\envs\\pyenv_usva_covid\\lib\\site-packages\\catalogue.py:138: DeprecationWarning: SelectableGroups dict interface is deprecated. Use select.\n",
      "  for entry_point in AVAILABLE_ENTRY_POINTS.get(self.entry_point_namespace, []):\n",
      "C:\\Users\\ChristopherMeaney\\anaconda3\\envs\\pyenv_usva_covid\\lib\\site-packages\\catalogue.py:138: DeprecationWarning: SelectableGroups dict interface is deprecated. Use select.\n",
      "  for entry_point in AVAILABLE_ENTRY_POINTS.get(self.entry_point_namespace, []):\n",
      "C:\\Users\\ChristopherMeaney\\anaconda3\\envs\\pyenv_usva_covid\\lib\\site-packages\\catalogue.py:138: DeprecationWarning: SelectableGroups dict interface is deprecated. Use select.\n",
      "  for entry_point in AVAILABLE_ENTRY_POINTS.get(self.entry_point_namespace, []):\n",
      "C:\\Users\\ChristopherMeaney\\anaconda3\\envs\\pyenv_usva_covid\\lib\\site-packages\\catalogue.py:138: DeprecationWarning: SelectableGroups dict interface is deprecated. Use select.\n",
      "  for entry_point in AVAILABLE_ENTRY_POINTS.get(self.entry_point_namespace, []):\n",
      "C:\\Users\\ChristopherMeaney\\anaconda3\\envs\\pyenv_usva_covid\\lib\\site-packages\\catalogue.py:138: DeprecationWarning: SelectableGroups dict interface is deprecated. Use select.\n",
      "  for entry_point in AVAILABLE_ENTRY_POINTS.get(self.entry_point_namespace, []):\n",
      "C:\\Users\\ChristopherMeaney\\anaconda3\\envs\\pyenv_usva_covid\\lib\\site-packages\\catalogue.py:138: DeprecationWarning: SelectableGroups dict interface is deprecated. Use select.\n",
      "  for entry_point in AVAILABLE_ENTRY_POINTS.get(self.entry_point_namespace, []):\n",
      "C:\\Users\\ChristopherMeaney\\anaconda3\\envs\\pyenv_usva_covid\\lib\\site-packages\\catalogue.py:138: DeprecationWarning: SelectableGroups dict interface is deprecated. Use select.\n",
      "  for entry_point in AVAILABLE_ENTRY_POINTS.get(self.entry_point_namespace, []):\n",
      "C:\\Users\\ChristopherMeaney\\anaconda3\\envs\\pyenv_usva_covid\\lib\\site-packages\\catalogue.py:138: DeprecationWarning: SelectableGroups dict interface is deprecated. Use select.\n",
      "  for entry_point in AVAILABLE_ENTRY_POINTS.get(self.entry_point_namespace, []):\n",
      "C:\\Users\\ChristopherMeaney\\anaconda3\\envs\\pyenv_usva_covid\\lib\\site-packages\\catalogue.py:138: DeprecationWarning: SelectableGroups dict interface is deprecated. Use select.\n",
      "  for entry_point in AVAILABLE_ENTRY_POINTS.get(self.entry_point_namespace, []):\n",
      "C:\\Users\\ChristopherMeaney\\anaconda3\\envs\\pyenv_usva_covid\\lib\\site-packages\\catalogue.py:138: DeprecationWarning: SelectableGroups dict interface is deprecated. Use select.\n",
      "  for entry_point in AVAILABLE_ENTRY_POINTS.get(self.entry_point_namespace, []):\n"
     ]
    }
   ],
   "source": [
    "## Load medspacy model files\n",
    "nlp = spacy.load(\"en_core_web_sm\")\n",
    "nlp = medspacy.load(nlp)"
   ]
  },
  {
   "cell_type": "code",
   "execution_count": 6,
   "id": "4cc70478",
   "metadata": {},
   "outputs": [
    {
     "name": "stderr",
     "output_type": "stream",
     "text": [
      "C:\\Users\\ChristopherMeaney\\anaconda3\\envs\\pyenv_usva_covid\\lib\\site-packages\\ipykernel\\ipkernel.py:283: DeprecationWarning: `should_run_async` will not call `transform_cell` automatically in the future. Please pass the result to `transformed_cell` argument and any exception that happen during thetransform in `preprocessing_exc_tuple` in IPython 7.17 and above.\n",
      "  and should_run_async(code)\n"
     ]
    }
   ],
   "source": [
    "## Some basic usage example\n",
    "from medspacy.ner import TargetRule\n",
    "from medspacy.visualization import visualize_ent"
   ]
  },
  {
   "cell_type": "code",
   "execution_count": 27,
   "id": "7aee6fbd",
   "metadata": {},
   "outputs": [
    {
     "name": "stderr",
     "output_type": "stream",
     "text": [
      "C:\\Users\\ChristopherMeaney\\anaconda3\\envs\\pyenv_usva_covid\\lib\\site-packages\\ipykernel\\ipkernel.py:283: DeprecationWarning: `should_run_async` will not call `transform_cell` automatically in the future. Please pass the result to `transformed_cell` argument and any exception that happen during thetransform in `preprocessing_exc_tuple` in IPython 7.17 and above.\n",
      "  and should_run_async(code)\n"
     ]
    },
    {
     "data": {
      "text/plain": [
       "['sentencizer', 'tagger', 'parser', 'ner', 'target_matcher', 'context']"
      ]
     },
     "execution_count": 27,
     "metadata": {},
     "output_type": "execute_result"
    }
   ],
   "source": [
    "nlp.pipe_names"
   ]
  },
  {
   "cell_type": "code",
   "execution_count": 28,
   "id": "1ecf0641",
   "metadata": {},
   "outputs": [
    {
     "name": "stderr",
     "output_type": "stream",
     "text": [
      "C:\\Users\\ChristopherMeaney\\anaconda3\\envs\\pyenv_usva_covid\\lib\\site-packages\\ipykernel\\ipkernel.py:283: DeprecationWarning: `should_run_async` will not call `transform_cell` automatically in the future. Please pass the result to `transformed_cell` argument and any exception that happen during thetransform in `preprocessing_exc_tuple` in IPython 7.17 and above.\n",
      "  and should_run_async(code)\n"
     ]
    },
    {
     "ename": "AttributeError",
     "evalue": "'ConTextComponent' object has no attribute 'item_data'",
     "output_type": "error",
     "traceback": [
      "\u001b[1;31m---------------------------------------------------------------------------\u001b[0m",
      "\u001b[1;31mAttributeError\u001b[0m                            Traceback (most recent call last)",
      "\u001b[1;32m<ipython-input-28-0587286557b1>\u001b[0m in \u001b[0;36m<module>\u001b[1;34m\u001b[0m\n\u001b[0;32m      1\u001b[0m \u001b[0mcontext\u001b[0m \u001b[1;33m=\u001b[0m \u001b[0mnlp\u001b[0m\u001b[1;33m.\u001b[0m\u001b[0mget_pipe\u001b[0m\u001b[1;33m(\u001b[0m\u001b[1;34m\"context\"\u001b[0m\u001b[1;33m)\u001b[0m\u001b[1;33m\u001b[0m\u001b[1;33m\u001b[0m\u001b[0m\n\u001b[1;32m----> 2\u001b[1;33m \u001b[0mcontext\u001b[0m\u001b[1;33m.\u001b[0m\u001b[0mitem_data\u001b[0m\u001b[1;33m[\u001b[0m\u001b[1;33m:\u001b[0m\u001b[1;36m10\u001b[0m\u001b[1;33m]\u001b[0m\u001b[1;33m\u001b[0m\u001b[1;33m\u001b[0m\u001b[0m\n\u001b[0m",
      "\u001b[1;31mAttributeError\u001b[0m: 'ConTextComponent' object has no attribute 'item_data'"
     ]
    }
   ],
   "source": [
    "context = nlp.get_pipe(\"context\")\n",
    "context.item_data[:10]"
   ]
  },
  {
   "cell_type": "code",
   "execution_count": 22,
   "id": "e7aaf475",
   "metadata": {},
   "outputs": [
    {
     "name": "stderr",
     "output_type": "stream",
     "text": [
      "C:\\Users\\ChristopherMeaney\\anaconda3\\envs\\pyenv_usva_covid\\lib\\site-packages\\ipykernel\\ipkernel.py:283: DeprecationWarning: `should_run_async` will not call `transform_cell` automatically in the future. Please pass the result to `transformed_cell` argument and any exception that happen during thetransform in `preprocessing_exc_tuple` in IPython 7.17 and above.\n",
      "  and should_run_async(code)\n"
     ]
    }
   ],
   "source": [
    "text = '''\n",
    "Past Medical History:\n",
    "1. Atrial Fibrillation\n",
    "2. Type 2 Diabetes Mellitus\n",
    "\n",
    "Assessment and Plan:\n",
    "There is no evidence of pneumonia or other COVID-19 symptoms \n",
    "'''"
   ]
  },
  {
   "cell_type": "code",
   "execution_count": 23,
   "id": "758be9ba",
   "metadata": {},
   "outputs": [
    {
     "name": "stderr",
     "output_type": "stream",
     "text": [
      "C:\\Users\\ChristopherMeaney\\anaconda3\\envs\\pyenv_usva_covid\\lib\\site-packages\\ipykernel\\ipkernel.py:283: DeprecationWarning: `should_run_async` will not call `transform_cell` automatically in the future. Please pass the result to `transformed_cell` argument and any exception that happen during thetransform in `preprocessing_exc_tuple` in IPython 7.17 and above.\n",
      "  and should_run_async(code)\n"
     ]
    }
   ],
   "source": [
    "target_matcher = nlp.get_pipe(\"target_matcher\")"
   ]
  },
  {
   "cell_type": "code",
   "execution_count": 24,
   "id": "fea69b50",
   "metadata": {},
   "outputs": [
    {
     "name": "stderr",
     "output_type": "stream",
     "text": [
      "C:\\Users\\ChristopherMeaney\\anaconda3\\envs\\pyenv_usva_covid\\lib\\site-packages\\ipykernel\\ipkernel.py:283: DeprecationWarning: `should_run_async` will not call `transform_cell` automatically in the future. Please pass the result to `transformed_cell` argument and any exception that happen during thetransform in `preprocessing_exc_tuple` in IPython 7.17 and above.\n",
      "  and should_run_async(code)\n",
      "C:\\Users\\ChristopherMeaney\\anaconda3\\envs\\pyenv_usva_covid\\lib\\site-packages\\catalogue.py:138: DeprecationWarning: SelectableGroups dict interface is deprecated. Use select.\n",
      "  for entry_point in AVAILABLE_ENTRY_POINTS.get(self.entry_point_namespace, []):\n",
      "C:\\Users\\ChristopherMeaney\\anaconda3\\envs\\pyenv_usva_covid\\lib\\site-packages\\catalogue.py:138: DeprecationWarning: SelectableGroups dict interface is deprecated. Use select.\n",
      "  for entry_point in AVAILABLE_ENTRY_POINTS.get(self.entry_point_namespace, []):\n",
      "C:\\Users\\ChristopherMeaney\\anaconda3\\envs\\pyenv_usva_covid\\lib\\site-packages\\catalogue.py:138: DeprecationWarning: SelectableGroups dict interface is deprecated. Use select.\n",
      "  for entry_point in AVAILABLE_ENTRY_POINTS.get(self.entry_point_namespace, []):\n",
      "C:\\Users\\ChristopherMeaney\\anaconda3\\envs\\pyenv_usva_covid\\lib\\site-packages\\catalogue.py:138: DeprecationWarning: SelectableGroups dict interface is deprecated. Use select.\n",
      "  for entry_point in AVAILABLE_ENTRY_POINTS.get(self.entry_point_namespace, []):\n",
      "C:\\Users\\ChristopherMeaney\\anaconda3\\envs\\pyenv_usva_covid\\lib\\site-packages\\catalogue.py:138: DeprecationWarning: SelectableGroups dict interface is deprecated. Use select.\n",
      "  for entry_point in AVAILABLE_ENTRY_POINTS.get(self.entry_point_namespace, []):\n",
      "C:\\Users\\ChristopherMeaney\\anaconda3\\envs\\pyenv_usva_covid\\lib\\site-packages\\catalogue.py:138: DeprecationWarning: SelectableGroups dict interface is deprecated. Use select.\n",
      "  for entry_point in AVAILABLE_ENTRY_POINTS.get(self.entry_point_namespace, []):\n"
     ]
    },
    {
     "ename": "ValueError",
     "evalue": "[E154] One of the attributes or values is not supported for token patterns. Please use the option validate=True with Matcher, PhraseMatcher, or EntityRuler for more details.",
     "output_type": "error",
     "traceback": [
      "\u001b[1;31m---------------------------------------------------------------------------\u001b[0m",
      "\u001b[1;31mValueError\u001b[0m                                Traceback (most recent call last)",
      "\u001b[1;32m<ipython-input-24-b4913bc93efd>\u001b[0m in \u001b[0;36m<module>\u001b[1;34m\u001b[0m\n\u001b[0;32m     19\u001b[0m ]\n\u001b[0;32m     20\u001b[0m \u001b[1;33m\u001b[0m\u001b[0m\n\u001b[1;32m---> 21\u001b[1;33m \u001b[0mtarget_matcher\u001b[0m\u001b[1;33m.\u001b[0m\u001b[0madd\u001b[0m\u001b[1;33m(\u001b[0m\u001b[0mtarget_rules\u001b[0m\u001b[1;33m)\u001b[0m\u001b[1;33m\u001b[0m\u001b[1;33m\u001b[0m\u001b[0m\n\u001b[0m",
      "\u001b[1;32m~\\anaconda3\\envs\\pyenv_usva_covid\\lib\\site-packages\\medspacy\\target_matcher\\target_matcher.py\u001b[0m in \u001b[0;36madd\u001b[1;34m(self, rules)\u001b[0m\n\u001b[0;32m     40\u001b[0m             \u001b[0mrules\u001b[0m \u001b[1;33m=\u001b[0m \u001b[1;33m[\u001b[0m\u001b[0mrules\u001b[0m\u001b[1;33m]\u001b[0m\u001b[1;33m\u001b[0m\u001b[1;33m\u001b[0m\u001b[0m\n\u001b[0;32m     41\u001b[0m         \u001b[0mself\u001b[0m\u001b[1;33m.\u001b[0m\u001b[0m_rules\u001b[0m \u001b[1;33m+=\u001b[0m \u001b[0mrules\u001b[0m\u001b[1;33m\u001b[0m\u001b[1;33m\u001b[0m\u001b[0m\n\u001b[1;32m---> 42\u001b[1;33m         \u001b[0mself\u001b[0m\u001b[1;33m.\u001b[0m\u001b[0mmatcher\u001b[0m\u001b[1;33m.\u001b[0m\u001b[0madd\u001b[0m\u001b[1;33m(\u001b[0m\u001b[0mrules\u001b[0m\u001b[1;33m)\u001b[0m\u001b[1;33m\u001b[0m\u001b[1;33m\u001b[0m\u001b[0m\n\u001b[0m\u001b[0;32m     43\u001b[0m         \u001b[1;32mfor\u001b[0m \u001b[0mrule\u001b[0m \u001b[1;32min\u001b[0m \u001b[0mrules\u001b[0m\u001b[1;33m:\u001b[0m\u001b[1;33m\u001b[0m\u001b[1;33m\u001b[0m\u001b[0m\n\u001b[0;32m     44\u001b[0m             \u001b[1;32mif\u001b[0m \u001b[1;32mnot\u001b[0m \u001b[0misinstance\u001b[0m\u001b[1;33m(\u001b[0m\u001b[0mrule\u001b[0m\u001b[1;33m,\u001b[0m \u001b[0mTargetRule\u001b[0m\u001b[1;33m)\u001b[0m\u001b[1;33m:\u001b[0m\u001b[1;33m\u001b[0m\u001b[1;33m\u001b[0m\u001b[0m\n",
      "\u001b[1;32m~\\anaconda3\\envs\\pyenv_usva_covid\\lib\\site-packages\\medspacy\\common\\medspacy_matcher.py\u001b[0m in \u001b[0;36madd\u001b[1;34m(self, rules)\u001b[0m\n\u001b[0;32m     57\u001b[0m                 \u001b[1;31m# If it's a list, add a pattern dictionary\u001b[0m\u001b[1;33m\u001b[0m\u001b[1;33m\u001b[0m\u001b[1;33m\u001b[0m\u001b[0m\n\u001b[0;32m     58\u001b[0m                 \u001b[1;32melif\u001b[0m \u001b[0misinstance\u001b[0m\u001b[1;33m(\u001b[0m\u001b[0mrule\u001b[0m\u001b[1;33m.\u001b[0m\u001b[0mpattern\u001b[0m\u001b[1;33m,\u001b[0m \u001b[0mlist\u001b[0m\u001b[1;33m)\u001b[0m\u001b[1;33m:\u001b[0m\u001b[1;33m\u001b[0m\u001b[1;33m\u001b[0m\u001b[0m\n\u001b[1;32m---> 59\u001b[1;33m                     \u001b[0mself\u001b[0m\u001b[1;33m.\u001b[0m\u001b[0mmatcher\u001b[0m\u001b[1;33m.\u001b[0m\u001b[0madd\u001b[0m\u001b[1;33m(\u001b[0m\u001b[0mrule_id\u001b[0m\u001b[1;33m,\u001b[0m \u001b[1;33m[\u001b[0m\u001b[0mrule\u001b[0m\u001b[1;33m.\u001b[0m\u001b[0mpattern\u001b[0m\u001b[1;33m]\u001b[0m\u001b[1;33m,\u001b[0m \u001b[0mon_match\u001b[0m\u001b[1;33m=\u001b[0m\u001b[0mrule\u001b[0m\u001b[1;33m.\u001b[0m\u001b[0mon_match\u001b[0m\u001b[1;33m)\u001b[0m\u001b[1;33m\u001b[0m\u001b[1;33m\u001b[0m\u001b[0m\n\u001b[0m\u001b[0;32m     60\u001b[0m                 \u001b[1;32melse\u001b[0m\u001b[1;33m:\u001b[0m\u001b[1;33m\u001b[0m\u001b[1;33m\u001b[0m\u001b[0m\n\u001b[0;32m     61\u001b[0m                     raise ValueError(\n",
      "\u001b[1;32mmatcher.pyx\u001b[0m in \u001b[0;36mspacy.matcher.matcher.Matcher.add\u001b[1;34m()\u001b[0m\n",
      "\u001b[1;32mmatcher.pyx\u001b[0m in \u001b[0;36mspacy.matcher.matcher._preprocess_pattern\u001b[1;34m()\u001b[0m\n",
      "\u001b[1;31mValueError\u001b[0m: [E154] One of the attributes or values is not supported for token patterns. Please use the option validate=True with Matcher, PhraseMatcher, or EntityRuler for more details."
     ]
    }
   ],
   "source": [
    "target_rules = [\n",
    "    TargetRule(\"atrial fibrillation\", \"PROBLEM\"),\n",
    "    TargetRule(\"atrial fibrillation\", \"PROBLEM\", pattern=[{\"LOWER\": \"afib\"}]),\n",
    "    TargetRule(\"pneumonia\", \"PROBLEM\"),\n",
    "    TargetRule(\"Type II Diabetes Mellitus\", \"PROBLEM\", \n",
    "                      pattern=[{\"LOWER\": \"type\"},\n",
    "                              {\"LOWER\": {\"IN\": [\"2\",\"ii\",\"two\"]}},\n",
    "                               {\"LOWER\": {\"IN\": [\"dm\",\"diabetes\"]}},\n",
    "                               {\"LOWER\": \"mellitus\", \"OP\": \"?\"}\n",
    "                              ]\n",
    "              ),\n",
    "    TargetRule(\"warfarin\", \"MEDICATION\"),\n",
    "    TargetRule(\"COVID-19\", \"PROBLEM\", pattern=[{\"LOWER\", \"covid-19\"}])\n",
    "    \n",
    "]\n",
    "\n",
    "target_matcher.add(target_rules)"
   ]
  },
  {
   "cell_type": "code",
   "execution_count": 25,
   "id": "77845335",
   "metadata": {},
   "outputs": [
    {
     "name": "stderr",
     "output_type": "stream",
     "text": [
      "C:\\Users\\ChristopherMeaney\\anaconda3\\envs\\pyenv_usva_covid\\lib\\site-packages\\ipykernel\\ipkernel.py:283: DeprecationWarning: `should_run_async` will not call `transform_cell` automatically in the future. Please pass the result to `transformed_cell` argument and any exception that happen during thetransform in `preprocessing_exc_tuple` in IPython 7.17 and above.\n",
      "  and should_run_async(code)\n",
      "C:\\Users\\ChristopherMeaney\\anaconda3\\envs\\pyenv_usva_covid\\lib\\site-packages\\catalogue.py:138: DeprecationWarning: SelectableGroups dict interface is deprecated. Use select.\n",
      "  for entry_point in AVAILABLE_ENTRY_POINTS.get(self.entry_point_namespace, []):\n",
      "C:\\Users\\ChristopherMeaney\\anaconda3\\envs\\pyenv_usva_covid\\lib\\site-packages\\catalogue.py:138: DeprecationWarning: SelectableGroups dict interface is deprecated. Use select.\n",
      "  for entry_point in AVAILABLE_ENTRY_POINTS.get(self.entry_point_namespace, []):\n"
     ]
    }
   ],
   "source": [
    "doc = nlp(text)"
   ]
  },
  {
   "cell_type": "code",
   "execution_count": 26,
   "id": "0b6a587b",
   "metadata": {},
   "outputs": [
    {
     "name": "stderr",
     "output_type": "stream",
     "text": [
      "C:\\Users\\ChristopherMeaney\\anaconda3\\envs\\pyenv_usva_covid\\lib\\site-packages\\ipykernel\\ipkernel.py:283: DeprecationWarning: `should_run_async` will not call `transform_cell` automatically in the future. Please pass the result to `transformed_cell` argument and any exception that happen during thetransform in `preprocessing_exc_tuple` in IPython 7.17 and above.\n",
      "  and should_run_async(code)\n",
      "C:\\Users\\ChristopherMeaney\\anaconda3\\envs\\pyenv_usva_covid\\lib\\site-packages\\catalogue.py:126: DeprecationWarning: SelectableGroups dict interface is deprecated. Use select.\n",
      "  for entry_point in AVAILABLE_ENTRY_POINTS.get(self.entry_point_namespace, []):\n"
     ]
    },
    {
     "data": {
      "text/html": [
       "<span class=\"tex2jax_ignore\"><div class=\"entities\" style=\"line-height: 2.5; direction: ltr\"></br>Past Medical History:</br>\n",
       "<mark class=\"entity\" style=\"background: #2ca02c; padding: 0.45em 0.6em; margin: 0 0.25em; line-height: 1; border-radius: 0.35em;\">\n",
       "    1\n",
       "    <span style=\"font-size: 0.8em; font-weight: bold; line-height: 1; border-radius: 0.35em; text-transform: uppercase; vertical-align: middle; margin-left: 0.5rem\">CARDINAL</span>\n",
       "</mark>\n",
       ". \n",
       "<mark class=\"entity\" style=\"background: #d62728; padding: 0.45em 0.6em; margin: 0 0.25em; line-height: 1; border-radius: 0.35em;\">\n",
       "    Atrial Fibrillation\n",
       "    <span style=\"font-size: 0.8em; font-weight: bold; line-height: 1; border-radius: 0.35em; text-transform: uppercase; vertical-align: middle; margin-left: 0.5rem\">ORG</span>\n",
       "</mark>\n",
       "</br>\n",
       "<mark class=\"entity\" style=\"background: #2ca02c; padding: 0.45em 0.6em; margin: 0 0.25em; line-height: 1; border-radius: 0.35em;\">\n",
       "    2\n",
       "    <span style=\"font-size: 0.8em; font-weight: bold; line-height: 1; border-radius: 0.35em; text-transform: uppercase; vertical-align: middle; margin-left: 0.5rem\">CARDINAL</span>\n",
       "</mark>\n",
       ". Type \n",
       "<mark class=\"entity\" style=\"background: #2ca02c; padding: 0.45em 0.6em; margin: 0 0.25em; line-height: 1; border-radius: 0.35em;\">\n",
       "    2\n",
       "    <span style=\"font-size: 0.8em; font-weight: bold; line-height: 1; border-radius: 0.35em; text-transform: uppercase; vertical-align: middle; margin-left: 0.5rem\">CARDINAL</span>\n",
       "</mark>\n",
       " Diabetes Mellitus</br></br>Assessment and Plan:</br>There is \n",
       "<mark class=\"entity\" style=\"background: #ff7f0e; padding: 0.45em 0.6em; margin: 0 0.25em; line-height: 1; border-radius: 0.35em;\">\n",
       "    no evidence of\n",
       "    <span style=\"font-size: 0.8em; font-weight: bold; line-height: 1; border-radius: 0.35em; text-transform: uppercase; vertical-align: middle; margin-left: 0.5rem\">NEGATED_EXISTENCE</span>\n",
       "</mark>\n",
       " \n",
       "<mark class=\"entity\" style=\"background: #1f77b4; padding: 0.45em 0.6em; margin: 0 0.25em; line-height: 1; border-radius: 0.35em;\">\n",
       "    pneumonia\n",
       "    <span style=\"font-size: 0.8em; font-weight: bold; line-height: 1; border-radius: 0.35em; text-transform: uppercase; vertical-align: middle; margin-left: 0.5rem\">PROBLEM</span>\n",
       "</mark>\n",
       " or other \n",
       "<mark class=\"entity\" style=\"background: #d62728; padding: 0.45em 0.6em; margin: 0 0.25em; line-height: 1; border-radius: 0.35em;\">\n",
       "    COVID\n",
       "    <span style=\"font-size: 0.8em; font-weight: bold; line-height: 1; border-radius: 0.35em; text-transform: uppercase; vertical-align: middle; margin-left: 0.5rem\">ORG</span>\n",
       "</mark>\n",
       "-19 symptoms \n",
       "</div></span>"
      ],
      "text/plain": [
       "<IPython.core.display.HTML object>"
      ]
     },
     "metadata": {},
     "output_type": "display_data"
    }
   ],
   "source": [
    "visualize_ent(doc)"
   ]
  },
  {
   "cell_type": "code",
   "execution_count": null,
   "id": "3a06927b",
   "metadata": {},
   "outputs": [],
   "source": []
  },
  {
   "cell_type": "code",
   "execution_count": null,
   "id": "0aa91c2c",
   "metadata": {},
   "outputs": [],
   "source": []
  },
  {
   "cell_type": "code",
   "execution_count": null,
   "id": "c061d565",
   "metadata": {},
   "outputs": [],
   "source": []
  },
  {
   "cell_type": "code",
   "execution_count": null,
   "id": "4ddc0d33",
   "metadata": {},
   "outputs": [],
   "source": []
  },
  {
   "cell_type": "code",
   "execution_count": null,
   "id": "6e81ea7f",
   "metadata": {},
   "outputs": [],
   "source": []
  },
  {
   "cell_type": "code",
   "execution_count": null,
   "id": "fcee49ae",
   "metadata": {},
   "outputs": [],
   "source": []
  },
  {
   "cell_type": "code",
   "execution_count": null,
   "id": "9b954289",
   "metadata": {},
   "outputs": [],
   "source": []
  },
  {
   "cell_type": "code",
   "execution_count": null,
   "id": "c0ba39c3",
   "metadata": {},
   "outputs": [],
   "source": []
  },
  {
   "cell_type": "code",
   "execution_count": 8,
   "id": "6b272934",
   "metadata": {},
   "outputs": [
    {
     "name": "stderr",
     "output_type": "stream",
     "text": [
      "C:\\Users\\ChristopherMeaney\\anaconda3\\envs\\pyenv_usva_covid\\lib\\site-packages\\ipykernel\\ipkernel.py:283: DeprecationWarning: `should_run_async` will not call `transform_cell` automatically in the future. Please pass the result to `transformed_cell` argument and any exception that happen during thetransform in `preprocessing_exc_tuple` in IPython 7.17 and above.\n",
      "  and should_run_async(code)\n",
      "C:\\Users\\ChristopherMeaney\\anaconda3\\envs\\pyenv_usva_covid\\lib\\site-packages\\jupyterlab_server\\app.py:32: DeprecationWarning: metadata {'default': '2.6.0'} was set from the constructor. With traitlets 4.1, metadata should be set using the .tag() method, e.g., Int().tag(key1='value1', key2='value2')\n",
      "  default = __version__)\n"
     ]
    },
    {
     "name": "stdout",
     "output_type": "stream",
     "text": [
      "-----\n",
      "medspacy    0.1.0.0\n",
      "numpy       1.20.3\n",
      "pandas      1.2.4\n",
      "sinfo       0.3.1\n",
      "spacy       2.3.2\n",
      "-----\n",
      "IPython             7.24.1\n",
      "jupyter_client      6.1.12\n",
      "jupyter_core        4.7.1\n",
      "jupyterlab          3.0.16\n",
      "notebook            6.4.0\n",
      "-----\n",
      "Python 3.7.10 | packaged by conda-forge | (default, Feb 19 2021, 15:37:01) [MSC v.1916 64 bit (AMD64)]\n",
      "Windows-10-10.0.19041-SP0\n",
      "8 logical CPU cores, Intel64 Family 6 Model 126 Stepping 5, GenuineIntel\n",
      "-----\n",
      "Session information updated at 2021-06-29 16:03\n"
     ]
    }
   ],
   "source": [
    "## System information\n",
    "sinfo()"
   ]
  },
  {
   "cell_type": "code",
   "execution_count": null,
   "id": "42dbb42b",
   "metadata": {},
   "outputs": [],
   "source": []
  }
 ],
 "metadata": {
  "kernelspec": {
   "display_name": "Python 3",
   "language": "python",
   "name": "python3"
  },
  "language_info": {
   "codemirror_mode": {
    "name": "ipython",
    "version": 3
   },
   "file_extension": ".py",
   "mimetype": "text/x-python",
   "name": "python",
   "nbconvert_exporter": "python",
   "pygments_lexer": "ipython3",
   "version": "3.7.10"
  }
 },
 "nbformat": 4,
 "nbformat_minor": 5
}
